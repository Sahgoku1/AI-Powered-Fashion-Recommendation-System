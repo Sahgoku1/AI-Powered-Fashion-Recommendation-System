{
 "cells": [
  {
   "cell_type": "markdown",
   "metadata": {},
   "source": [
    "## Loading data"
   ]
  },
  {
   "cell_type": "code",
   "execution_count": 2,
   "metadata": {},
   "outputs": [],
   "source": [
    "import sys, os\n",
    "sys.path.append(os.path.join(os.path.dirname('__file__'), '..', 'DB_and_Azure'))\n",
    "from sql_db_functions import sql_db_functions as SQLf"
   ]
  },
  {
   "cell_type": "code",
   "execution_count": 3,
   "metadata": {},
   "outputs": [],
   "source": [
    "conn, cursor = SQLf.connect_sql()"
   ]
  },
  {
   "cell_type": "code",
   "execution_count": 4,
   "metadata": {},
   "outputs": [],
   "source": [
    "query = f\"SELECT product_characteristics.id, Brand_id, Detail,Summary, Brand, Price, Link FROM product_characteristics INNER JOIN Products ON product_characteristics.Brand_id = Products.Brand_Prod_id ;\"\n",
    "cursor.execute(query)\n",
    "\n",
    "# Fetch the rows\n",
    "rows = cursor.fetchall()\n",
    "#rows"
   ]
  },
  {
   "cell_type": "code",
   "execution_count": 4,
   "metadata": {},
   "outputs": [],
   "source": [
    "conn, cursor = SQLf.connect_sql()"
   ]
  },
  {
   "cell_type": "code",
   "execution_count": 5,
   "metadata": {},
   "outputs": [],
   "source": [
    "query = f\"SELECT Brand_id, image_link, base64 FROM product_img ;\"\n",
    "cursor.execute(query)\n",
    "\n",
    "# Fetch the rows\n",
    "rows_img = cursor.fetchall()\n",
    "#rows"
   ]
  },
  {
   "cell_type": "code",
   "execution_count": 6,
   "metadata": {},
   "outputs": [],
   "source": [
    "SQLf.close_connection_db(conn=conn,cursor=cursor)"
   ]
  },
  {
   "cell_type": "code",
   "execution_count": 7,
   "metadata": {},
   "outputs": [],
   "source": [
    "import pandas as pd"
   ]
  },
  {
   "cell_type": "code",
   "execution_count": 8,
   "metadata": {},
   "outputs": [
    {
     "data": {
      "text/html": [
       "<div>\n",
       "<style scoped>\n",
       "    .dataframe tbody tr th:only-of-type {\n",
       "        vertical-align: middle;\n",
       "    }\n",
       "\n",
       "    .dataframe tbody tr th {\n",
       "        vertical-align: top;\n",
       "    }\n",
       "\n",
       "    .dataframe thead th {\n",
       "        text-align: right;\n",
       "    }\n",
       "</style>\n",
       "<table border=\"1\" class=\"dataframe\">\n",
       "  <thead>\n",
       "    <tr style=\"text-align: right;\">\n",
       "      <th></th>\n",
       "      <th>id</th>\n",
       "      <th>Brand_id</th>\n",
       "      <th>Detail</th>\n",
       "      <th>Summary</th>\n",
       "      <th>Brand</th>\n",
       "      <th>Price</th>\n",
       "      <th>Link</th>\n",
       "    </tr>\n",
       "  </thead>\n",
       "  <tbody>\n",
       "    <tr>\n",
       "      <th>0</th>\n",
       "      <td>10</td>\n",
       "      <td>50</td>\n",
       "      <td>*Type: Top, Shirt  \\n*Fit: Regular fit  \\n*Sle...</td>\n",
       "      <td>The top showcased in the images is a stylish s...</td>\n",
       "      <td>HM</td>\n",
       "      <td>15.99</td>\n",
       "      <td>https://www2.hm.com/it_it/productpage.12282720...</td>\n",
       "    </tr>\n",
       "    <tr>\n",
       "      <th>1</th>\n",
       "      <td>101</td>\n",
       "      <td>101</td>\n",
       "      <td>*Type: Top, Shirt  \\n*Fit: Regular fit  \\n*Sle...</td>\n",
       "      <td>The top showcased in the images is a fluid fab...</td>\n",
       "      <td>Mango</td>\n",
       "      <td>39.99</td>\n",
       "      <td>https://shop.mango.com/it/it/p/donna/bluse-e-c...</td>\n",
       "    </tr>\n",
       "    <tr>\n",
       "      <th>2</th>\n",
       "      <td>4</td>\n",
       "      <td>4</td>\n",
       "      <td>*Type: Shirt  \\n*Fit: Regular fit  \\n*Sleeve s...</td>\n",
       "      <td>The shirt from Gucci, as shown in the images, ...</td>\n",
       "      <td>Gucci</td>\n",
       "      <td>1300.00</td>\n",
       "      <td>https://www.gucci.com/it/it/pr/women/ready-to-...</td>\n",
       "    </tr>\n",
       "    <tr>\n",
       "      <th>3</th>\n",
       "      <td>2</td>\n",
       "      <td>2</td>\n",
       "      <td>*Type: Shirt  \\n*Fit: Regular fit  \\n*Sleeve s...</td>\n",
       "      <td>The showcased shirt is a Gucci Oxford cotton s...</td>\n",
       "      <td>Gucci</td>\n",
       "      <td>650.00</td>\n",
       "      <td>https://www.gucci.com/it/it/pr/women/ready-to-...</td>\n",
       "    </tr>\n",
       "    <tr>\n",
       "      <th>4</th>\n",
       "      <td>8</td>\n",
       "      <td>8</td>\n",
       "      <td>*Type: Top  \\n*Fit: Regular fit  \\n*Sleeve sty...</td>\n",
       "      <td>The top showcased in the images is a Gucci flo...</td>\n",
       "      <td>Gucci</td>\n",
       "      <td>980.00</td>\n",
       "      <td>https://www.gucci.com/it/it/pr/women/ready-to-...</td>\n",
       "    </tr>\n",
       "  </tbody>\n",
       "</table>\n",
       "</div>"
      ],
      "text/plain": [
       "    id  Brand_id                                             Detail  \\\n",
       "0   10        50  *Type: Top, Shirt  \\n*Fit: Regular fit  \\n*Sle...   \n",
       "1  101       101  *Type: Top, Shirt  \\n*Fit: Regular fit  \\n*Sle...   \n",
       "2    4         4  *Type: Shirt  \\n*Fit: Regular fit  \\n*Sleeve s...   \n",
       "3    2         2  *Type: Shirt  \\n*Fit: Regular fit  \\n*Sleeve s...   \n",
       "4    8         8  *Type: Top  \\n*Fit: Regular fit  \\n*Sleeve sty...   \n",
       "\n",
       "                                             Summary  Brand    Price  \\\n",
       "0  The top showcased in the images is a stylish s...     HM    15.99   \n",
       "1  The top showcased in the images is a fluid fab...  Mango    39.99   \n",
       "2  The shirt from Gucci, as shown in the images, ...  Gucci  1300.00   \n",
       "3  The showcased shirt is a Gucci Oxford cotton s...  Gucci   650.00   \n",
       "4  The top showcased in the images is a Gucci flo...  Gucci   980.00   \n",
       "\n",
       "                                                Link  \n",
       "0  https://www2.hm.com/it_it/productpage.12282720...  \n",
       "1  https://shop.mango.com/it/it/p/donna/bluse-e-c...  \n",
       "2  https://www.gucci.com/it/it/pr/women/ready-to-...  \n",
       "3  https://www.gucci.com/it/it/pr/women/ready-to-...  \n",
       "4  https://www.gucci.com/it/it/pr/women/ready-to-...  "
      ]
     },
     "execution_count": 8,
     "metadata": {},
     "output_type": "execute_result"
    }
   ],
   "source": [
    "df = pd.DataFrame(rows ,columns= ['id', 'Brand_id', 'Detail','Summary', 'Brand', 'Price', 'Link'])\n",
    "#df.head()"
   ]
  },
  {
   "cell_type": "code",
   "execution_count": 9,
   "metadata": {},
   "outputs": [
    {
     "data": {
      "text/html": [
       "<div>\n",
       "<style scoped>\n",
       "    .dataframe tbody tr th:only-of-type {\n",
       "        vertical-align: middle;\n",
       "    }\n",
       "\n",
       "    .dataframe tbody tr th {\n",
       "        vertical-align: top;\n",
       "    }\n",
       "\n",
       "    .dataframe thead th {\n",
       "        text-align: right;\n",
       "    }\n",
       "</style>\n",
       "<table border=\"1\" class=\"dataframe\">\n",
       "  <thead>\n",
       "    <tr style=\"text-align: right;\">\n",
       "      <th></th>\n",
       "      <th>Brand_id</th>\n",
       "      <th>image_link</th>\n",
       "      <th>base64</th>\n",
       "    </tr>\n",
       "  </thead>\n",
       "  <tbody>\n",
       "    <tr>\n",
       "      <th>0</th>\n",
       "      <td>1</td>\n",
       "      <td>https://media.gucci.com/style/DarkGray_Center_...</td>\n",
       "      <td>data:image/jpeg;base64, /9j/4AAQSkZJRgABAQAAAQ...</td>\n",
       "    </tr>\n",
       "    <tr>\n",
       "      <th>1</th>\n",
       "      <td>1</td>\n",
       "      <td>https://media.gucci.com/style/DarkGray_Center_...</td>\n",
       "      <td>data:image/jpeg;base64, /9j/4AAQSkZJRgABAQAAAQ...</td>\n",
       "    </tr>\n",
       "    <tr>\n",
       "      <th>2</th>\n",
       "      <td>1</td>\n",
       "      <td>https://media.gucci.com/style/DarkGray_Center_...</td>\n",
       "      <td>data:image/jpeg;base64, /9j/4AAQSkZJRgABAQAAAQ...</td>\n",
       "    </tr>\n",
       "    <tr>\n",
       "      <th>3</th>\n",
       "      <td>1</td>\n",
       "      <td>https://media.gucci.com/style/White_Center_0_0...</td>\n",
       "      <td>data:image/jpeg;base64, /9j/4AAQSkZJRgABAQAAAQ...</td>\n",
       "    </tr>\n",
       "    <tr>\n",
       "      <th>4</th>\n",
       "      <td>2</td>\n",
       "      <td>https://media.gucci.com/style/DarkGray_Center_...</td>\n",
       "      <td>data:image/jpeg;base64, /9j/4AAQSkZJRgABAQAAAQ...</td>\n",
       "    </tr>\n",
       "  </tbody>\n",
       "</table>\n",
       "</div>"
      ],
      "text/plain": [
       "   Brand_id                                         image_link  \\\n",
       "0         1  https://media.gucci.com/style/DarkGray_Center_...   \n",
       "1         1  https://media.gucci.com/style/DarkGray_Center_...   \n",
       "2         1  https://media.gucci.com/style/DarkGray_Center_...   \n",
       "3         1  https://media.gucci.com/style/White_Center_0_0...   \n",
       "4         2  https://media.gucci.com/style/DarkGray_Center_...   \n",
       "\n",
       "                                              base64  \n",
       "0  data:image/jpeg;base64, /9j/4AAQSkZJRgABAQAAAQ...  \n",
       "1  data:image/jpeg;base64, /9j/4AAQSkZJRgABAQAAAQ...  \n",
       "2  data:image/jpeg;base64, /9j/4AAQSkZJRgABAQAAAQ...  \n",
       "3  data:image/jpeg;base64, /9j/4AAQSkZJRgABAQAAAQ...  \n",
       "4  data:image/jpeg;base64, /9j/4AAQSkZJRgABAQAAAQ...  "
      ]
     },
     "execution_count": 9,
     "metadata": {},
     "output_type": "execute_result"
    }
   ],
   "source": [
    "df_img = pd.DataFrame(rows_img ,columns= ['Brand_id','image_link','base64'])\n",
    "df_img['image_link'] = df_img['image_link'].apply(lambda x: x if 'https' in x else 'https:' +  x )\n",
    "#df_img.head()"
   ]
  },
  {
   "cell_type": "code",
   "execution_count": 10,
   "metadata": {},
   "outputs": [],
   "source": [
    "df['Detail'] = df['Detail'] = df['Detail'].str.replace('\\n', ' / ').str.replace(r'\\s+', ' ').str.replace('*', ' ')"
   ]
  },
  {
   "cell_type": "code",
   "execution_count": 11,
   "metadata": {},
   "outputs": [],
   "source": [
    "import numpy as np"
   ]
  },
  {
   "cell_type": "code",
   "execution_count": 12,
   "metadata": {},
   "outputs": [],
   "source": [
    "final_df = pd.DataFrame()\n",
    "\n",
    "for parent_row in df.Detail: \n",
    "    x = []\n",
    "    for row in parent_row.split('/'):\n",
    "        x.append(row.split(':'))\n",
    "\n",
    "    temp_dataframe = pd.DataFrame(x)\n",
    "    temp_dataframe[0] = temp_dataframe[0].str.lower()\n",
    "    temp_dataframe = temp_dataframe.sort_values(by=0)\n",
    "    temp_dataframe = temp_dataframe.groupby(0)[1].apply(lambda x: ', '.join(x)).reset_index()\n",
    "        \n",
    "    temp_dataframe = temp_dataframe.set_index(0).T\n",
    "    temp_dataframe.columns = temp_dataframe.columns.str.lstrip()\n",
    "    \n",
    "    final_df = pd.concat([final_df,temp_dataframe], ignore_index = True)\n",
    "\n",
    "final_df['seasson'] = final_df['season'].combine_first(final_df['seasson'])\n",
    "final_df = final_df.drop('season', axis=1)"
   ]
  },
  {
   "cell_type": "code",
   "execution_count": 14,
   "metadata": {},
   "outputs": [],
   "source": [
    "df = pd.concat([df,final_df], axis=1)"
   ]
  },
  {
   "cell_type": "markdown",
   "metadata": {},
   "source": [
    "## aaaa"
   ]
  },
  {
   "cell_type": "code",
   "execution_count": null,
   "metadata": {},
   "outputs": [],
   "source": []
  }
 ],
 "metadata": {
  "kernelspec": {
   "display_name": "Python 3",
   "language": "python",
   "name": "python3"
  },
  "language_info": {
   "codemirror_mode": {
    "name": "ipython",
    "version": 3
   },
   "file_extension": ".py",
   "mimetype": "text/x-python",
   "name": "python",
   "nbconvert_exporter": "python",
   "pygments_lexer": "ipython3",
   "version": "3.11.8"
  }
 },
 "nbformat": 4,
 "nbformat_minor": 2
}
