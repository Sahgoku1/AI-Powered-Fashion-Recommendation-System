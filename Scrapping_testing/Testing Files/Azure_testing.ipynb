{
 "cells": [
  {
   "cell_type": "code",
   "execution_count": 17,
   "metadata": {},
   "outputs": [],
   "source": [
    "from azure.storage.blob import BlobServiceClient, generate_blob_sas, BlobSasPermissions\n",
    "from azure_key import account_name, account_key, container_name\n"
   ]
  },
  {
   "cell_type": "markdown",
   "metadata": {},
   "source": [
    "### read blob"
   ]
  },
  {
   "cell_type": "code",
   "execution_count": 3,
   "metadata": {},
   "outputs": [],
   "source": [
    "#Create a client string\n",
    "connect_str = 'DefaultEndpointsProtocol=https;AccountName='+account_name+';AccountKey='+account_key+';EndpointSuffix=core.windows.net'"
   ]
  },
  {
   "cell_type": "code",
   "execution_count": 4,
   "metadata": {},
   "outputs": [],
   "source": [
    "#use the client to connect\n",
    "blob_Service_client = BlobServiceClient.from_connection_string(connect_str)"
   ]
  },
  {
   "cell_type": "code",
   "execution_count": 7,
   "metadata": {},
   "outputs": [],
   "source": [
    "#Use the client to connect to the container \n",
    "container_client = blob_Service_client.get_container_client(container_name)"
   ]
  },
  {
   "cell_type": "code",
   "execution_count": 8,
   "metadata": {},
   "outputs": [],
   "source": [
    "#get list of all files in blob\n",
    "blob_list = []\n",
    "for blob_i in container_client.list_blobs():\n",
    "    blob_list.append(blob_i.name)"
   ]
  },
  {
   "cell_type": "code",
   "execution_count": 9,
   "metadata": {},
   "outputs": [
    {
     "data": {
      "text/plain": [
       "['Gucci5_6.jpg']"
      ]
     },
     "execution_count": 9,
     "metadata": {},
     "output_type": "execute_result"
    }
   ],
   "source": [
    "blob_list"
   ]
  },
  {
   "cell_type": "markdown",
   "metadata": {},
   "source": [
    "### load to blob"
   ]
  },
  {
   "cell_type": "code",
   "execution_count": 14,
   "metadata": {},
   "outputs": [],
   "source": [
    "# bring an image\n",
    "from PIL import Image\n",
    "from io import BytesIO"
   ]
  },
  {
   "cell_type": "code",
   "execution_count": 10,
   "metadata": {},
   "outputs": [],
   "source": [
    "# Load an image from file\n",
    "image_path = 'Testing_image.jpg'\n",
    "image = Image.open(image_path)"
   ]
  },
  {
   "cell_type": "code",
   "execution_count": 15,
   "metadata": {},
   "outputs": [],
   "source": [
    "img_byte_arr = BytesIO()\n",
    "image.save(img_byte_arr, format=image.format)\n",
    "img_byte_arr = img_byte_arr.getvalue()"
   ]
  },
  {
   "cell_type": "code",
   "execution_count": 16,
   "metadata": {},
   "outputs": [
    {
     "data": {
      "text/plain": [
       "<azure.storage.blob._blob_client.BlobClient at 0x187208dc810>"
      ]
     },
     "execution_count": 16,
     "metadata": {},
     "output_type": "execute_result"
    }
   ],
   "source": [
    "container_client.upload_blob(name= 'Testing.jpg',data=img_byte_arr )"
   ]
  },
  {
   "cell_type": "code",
   "execution_count": null,
   "metadata": {},
   "outputs": [],
   "source": [
    "def links_to_images(links,prod_name,container_client):\n",
    "\n",
    "    ua = UserAgent()\n",
    "    header = {'User-Agent':str(ua.chrome)}\n",
    "\n",
    "    img_names = []\n",
    "\n",
    "    i = 0\n",
    "    print(links)\n",
    "    for img_link in links:\n",
    "\n",
    "        if i == 3:\n",
    "            break\n",
    "        try:\n",
    "            response = requests.get('https:' + img_link, headers = header)\n",
    "            img = Image.open(BytesIO(response.content))\n",
    "\n",
    "            \n",
    "            # Resize the image to 600\n",
    "            img_resized = img.resize((500, 500))\n",
    "            img_name = f\"{prod_name}_{i}.jpg\"\n",
    "\n",
    "            # Load to Blob\n",
    "            print(f'loading images {i}')\n",
    "            Af.images_to_blob(image = img_resized,image_name = img_name,container_client = container_client)\n",
    "            \n",
    "            i+=1\n",
    "\n",
    "            img_names = img_names + [img_name]\n",
    "\n",
    "        except Exception as e:\n",
    "            # Rollback the transaction in case of error\n",
    "            print(\"Error occurred in loading images:\", e)\n",
    "\n",
    "    return img_names\n",
    "        "
   ]
  }
 ],
 "metadata": {
  "kernelspec": {
   "display_name": "Python 3",
   "language": "python",
   "name": "python3"
  },
  "language_info": {
   "codemirror_mode": {
    "name": "ipython",
    "version": 3
   },
   "file_extension": ".py",
   "mimetype": "text/x-python",
   "name": "python",
   "nbconvert_exporter": "python",
   "pygments_lexer": "ipython3",
   "version": "3.11.8"
  }
 },
 "nbformat": 4,
 "nbformat_minor": 2
}
