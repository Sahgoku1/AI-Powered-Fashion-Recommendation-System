{
 "cells": [
  {
   "cell_type": "code",
   "execution_count": 29,
   "metadata": {},
   "outputs": [],
   "source": [
    "import sys, os\n",
    "sys.path.append(os.path.join(os.path.dirname('__file__'), '..', 'DB_and_Azure'))\n",
    "import sql_db_functions as SQLf\n",
    "\n",
    "import pandas as pd\n",
    "from langchain_openai import ChatOpenAI\n",
    "from langchain.prompts import ChatPromptTemplate\n",
    " \n",
    "\n",
    "import getpass\n",
    "from apikey import apikey \n"
   ]
  },
  {
   "cell_type": "code",
   "execution_count": 30,
   "metadata": {},
   "outputs": [],
   "source": [
    "def get_products():\n",
    "\n",
    "    conn, cursor = SQLf.sql_db_functions.connect_sql()\n",
    "\n",
    "    query = f\"SELECT Brand_Prod_ID, Descript  FROM Products ;\" #LIMIT 5\n",
    "    cursor.execute(query)\n",
    "\n",
    "    # Fetch the rows\n",
    "    rows = cursor.fetchall()\n",
    "\n",
    "    df = pd.DataFrame(data=rows, columns=['Brand_Prod_ID','Descript'])\n",
    "\n",
    "    SQLf.sql_db_functions.close_connection_db(conn=conn, cursor=cursor)\n",
    "\n",
    "    return df\n"
   ]
  },
  {
   "cell_type": "code",
   "execution_count": 31,
   "metadata": {},
   "outputs": [],
   "source": [
    "def get_related_links(Brand_Prod_ID):\n",
    "    conn, cursor = SQLf.sql_db_functions.connect_sql()\n",
    "\n",
    "    query = f\"SELECT image_link FROM product_img WHERE Brand_id = {Brand_Prod_ID} ;\"\n",
    "    cursor.execute(query)\n",
    "    # Fetch the rows\n",
    "    image_links = cursor.fetchall()\n",
    "\n",
    "    SQLf.sql_db_functions.close_connection_db(conn=conn, cursor=cursor)\n",
    "\n",
    "    df_images = pd.DataFrame(data=image_links, columns=['image_link'])\n",
    "    df_images.head()\n",
    "\n",
    "    df_images['image_link'] = df_images['image_link'].apply(lambda x: x if 'https' in x else 'https:' +  x )\n",
    "\n",
    "    return df_images.image_link"
   ]
  },
  {
   "cell_type": "code",
   "execution_count": 32,
   "metadata": {},
   "outputs": [],
   "source": [
    "conn, cursor = SQLf.sql_db_functions.connect_sql()\n",
    "\n",
    "query = f\"SELECT image_link FROM product_img ;\"\n",
    "cursor.execute(query)\n",
    "# Fetch the rows\n",
    "image_links = cursor.fetchall()\n",
    "\n",
    "SQLf.sql_db_functions.close_connection_db(conn=conn, cursor=cursor)\n",
    "\n",
    "df_images = pd.DataFrame(data=image_links, columns=['image_link'])\n",
    "df_images.head()\n",
    "\n",
    "df_images['image_link'] = df_images['image_link'].apply(lambda x: x if 'https' in x else 'https:' +  x )"
   ]
  },
  {
   "cell_type": "code",
   "execution_count": 33,
   "metadata": {},
   "outputs": [],
   "source": [
    "def generate_prompt(image_urls, description,prompt_instructions):\n",
    "    # Construct the image part of the prompt\n",
    "    images_text = ' '.join([f\"{url}\" for url in image_urls])\n",
    "    # Combine with the description\n",
    "    prompt_text = f\"\"\"\n",
    "        IMAGES: {images_text} \\n\n",
    "        DESCRIPTION: {description} \\n\n",
    "        \n",
    "        {prompt_instructions}\n",
    "    \"\"\"\n",
    "    return prompt_text"
   ]
  },
  {
   "cell_type": "code",
   "execution_count": 34,
   "metadata": {},
   "outputs": [],
   "source": [
    "def get_gpt_description(current_images, current_description):\n",
    "\n",
    "    prompt_instructions = \"\"\"\n",
    "\n",
    "    The images showcase the same Top - Shirt, use them to create a detailed description of it and its style.\n",
    "    \\n\n",
    "    You MUST identify each of these characteristics in the IMAGES or DESCRIPTION to create the detailed description characteristics: \n",
    "    \\n\n",
    "    Fit, Material, Formality, Seasson, Colors, Texture, Transparency, Details and Embellishments, Shape,\n",
    "    Length, Fluidity of fabric, Fabric weight, Breathability, Occasion Suitability, etc.\n",
    "\n",
    "    Try to identify and describe the following chategories in the IMAGES or DESCRIPTION : \n",
    "    \\n\n",
    "    Sleeve style, Neckline, Collar Style, Patterns, Patterns placement, Pocket Presence, Pocket placement, Pocket size, and Lapel \n",
    "    \\n\n",
    "    \\n\n",
    "\n",
    "    DONT DESCRIBE THE MODEL.\n",
    "    Use information from the IMAGES and the DESCRIPTION.\n",
    "    IGNORE BACKGROUND OF THE IMAGES.  \n",
    "    ANSWER MUST BE AS SPECIFIC AS POSSIBLE BUT NOT COMPLEX\n",
    "    WRITE IN A SINGLE PARAGRAPH\n",
    "    NAME AND DESCRIBE THE COLORS USED\n",
    "    \"\"\"\n",
    "\n",
    "    prompt_text = generate_prompt(current_images, current_description,prompt_instructions)\n",
    "\n",
    "\n",
    "    os.environ['OPENAI_API_KEY'] = apikey\n",
    "\n",
    "    # LLM\n",
    "    model = ChatOpenAI(model=\"gpt-4o\", temperature=0.6)\n",
    "\n",
    "    # Prompt template\n",
    "    prompt = ChatPromptTemplate.from_messages(\n",
    "        [\n",
    "            (\"system\", \"You are a fashion specialist.\"),\n",
    "            (\"user\", prompt_text),\n",
    "        ]\n",
    "    )\n",
    "\n",
    "    chain = prompt | model\n",
    "\n",
    "    response = chain.invoke({})\n",
    "    return response.content\n",
    "\n"
   ]
  },
  {
   "cell_type": "code",
   "execution_count": 35,
   "metadata": {},
   "outputs": [],
   "source": [
    "def get_gpt_form(current_images, current_description):\n",
    "\n",
    "    prompt_instructions = \"\"\"\n",
    "\n",
    "    The IMAGES show the same Top - Shirt. Identify the product in the IMAGES and use the IMAGES and DESCRIPTION to fill out the following format to list attributes of the clothing piece in the image, separated by commas.  \n",
    "    \\n\n",
    "    \\n\n",
    "    *Type:  \n",
    "    *Fit: (NotSlim fit, regular fit, oversized, tight, loose, etc)\n",
    "    *Sleeve style: (Not Applicable, Short sleeve, long sleeve, sleeveless, cap sleeve, etc)     \n",
    "    *Neckline: (Not Applicable, Crew neck, V-neck, scoop neck, etc)   \n",
    "    *Material: (Cotton, linen, silk, polyester, etc)\n",
    "    *Formality: (Casual, Business Casual, Formal, etc)\n",
    "    *Seasson: (Winter, Spring, Summer, Autum)\n",
    "    *Colors:  (percentage of each color in the clothing peace) \n",
    "    *Texture: (Smooth, Rough, Ribbed, Velvety, etc)\n",
    "    *Transparency: (Opaque, Semi-transparent, Transparent, etc)\n",
    "    *Details and Embellishments: (e.g, buttons, zippers, embroidery, etc)\n",
    "    *Shape: (e.g., boxy, fitted, flared, etc) \n",
    "    *Length: (e.g., cropped, hip-length, tunic, etc)\n",
    "    *Collar Style: (e.g., Not Applicable, crew neck, V-neck, polo, button-down)\n",
    "    *Patterns: (e.g., stripes, floral, geometric, not applicable)\n",
    "    *Patterns placement: (e.g., lower back, left sholder, right chest, not applicable) \n",
    "    *Fluidity of fabric:\n",
    "    *Fabric weight: (Light, medium, or heavy)\n",
    "    *Pocket Presence:(Yes,No)\n",
    "    *Pocket placement:(e.g., lower back, left sholder, right chest, not applicable)\n",
    "    *Pocket size:(small, medium, big, not applicable)\n",
    "    *Breathability: (Low, Medium, High)\n",
    "    *Occasion Suitability: (Casual, formal, business casual, etc)\n",
    "    *Lapel: (not applicable, Notch, Peak, Shawl Satin, Slim, Wide, Contrasting, etc)\n",
    "\n",
    "    \\n\n",
    "    \\n\n",
    "    Use information from the images and the description.\n",
    "    IGNORE BACKGROUND.\n",
    "    ONLY ANSWER THE FORMAT.\n",
    "    IF THERE IS A MODEL IGNORE IT. \n",
    "    DONT USE THE BRAND NAME IN ANY DESCRIPTION. \n",
    "    YOU CAN USE MULTIPLE DESCRIPTIONS IN A SINGLE ATTRIBUTE.  \n",
    "    DONT USE MULTICOLOR OR Multicolor, NAME THE SPECIFIC COLORS.  \n",
    "    COLORS SHOULD INCLUDE PRINT AND CLOTHE COLORS WITHOUT ANY DESCRIPTION OF THE PRINT ONLY MAIN COLORS.\n",
    "   \n",
    "    \"\"\"\n",
    "\n",
    "    prompt_text = generate_prompt(current_images, current_description,prompt_instructions)\n",
    "\n",
    "\n",
    "    os.environ['OPENAI_API_KEY'] = apikey\n",
    "\n",
    "    # LLM\n",
    "    model = ChatOpenAI(model=\"gpt-4o\", temperature=0.6)\n",
    "\n",
    "    # Prompt template\n",
    "    prompt = ChatPromptTemplate.from_messages(\n",
    "        [\n",
    "            (\"system\", \"You are a fashion specialist.\"),\n",
    "            (\"user\", prompt_text),\n",
    "        ]\n",
    "    )\n",
    "\n",
    "    chain = prompt | model\n",
    "\n",
    "    response = chain.invoke({})\n",
    "    return response.content\n",
    "\n"
   ]
  },
  {
   "cell_type": "code",
   "execution_count": 36,
   "metadata": {},
   "outputs": [],
   "source": [
    "def load_form_to_db(current_product_ID,form, Summary):\n",
    "\n",
    "    \n",
    "    conn, cursor = SQLf.sql_db_functions.connect_sql()\n",
    "\n",
    "    query = \"\"\"\n",
    "    INSERT INTO product_characteristics (Brand_id, Detail, Summary) VALUES (%s, %s, %s)\n",
    "    RETURNING Brand_id;\n",
    "    \"\"\"\n",
    "    #INSERT INTO product_characteristics (Brand_id, Detail, Summary) VALUES (%s, %s, %s)\n",
    "\n",
    "    cursor.execute(query, (current_product_ID, form, Summary))\n",
    "\n",
    "    # Fetch the rows\n",
    "    #rows = cursor.fetchall()\n",
    "\n",
    "    conn.commit()\n",
    "\n",
    "    SQLf.sql_db_functions.close_connection_db(conn=conn,cursor=cursor)\n",
    "\n",
    "    #return rows\n",
    "\n",
    "    \n"
   ]
  },
  {
   "cell_type": "code",
   "execution_count": 37,
   "metadata": {},
   "outputs": [],
   "source": [
    "def update_form_in_db(current_product_ID, form, Summary):\n",
    "    \n",
    "    conn, cursor = SQLf.sql_db_functions.connect_sql()\n",
    "\n",
    "    query = \"\"\"\n",
    "    UPDATE product_characteristics \n",
    "    SET Detail = %s, Summary = %s\n",
    "    WHERE Brand_id = %s;\n",
    "    \"\"\"\n",
    "\n",
    "    cursor.execute(query, (form, Summary, current_product_ID))\n",
    "\n",
    "    conn.commit()\n",
    "\n",
    "    SQLf.sql_db_functions.close_connection_db(conn=conn,cursor=cursor)"
   ]
  },
  {
   "cell_type": "code",
   "execution_count": 38,
   "metadata": {},
   "outputs": [],
   "source": [
    "df = get_products()"
   ]
  },
  {
   "cell_type": "code",
   "execution_count": 39,
   "metadata": {},
   "outputs": [
    {
     "data": {
      "text/plain": [
       "(154, 2)"
      ]
     },
     "execution_count": 39,
     "metadata": {},
     "output_type": "execute_result"
    }
   ],
   "source": [
    "df.shape"
   ]
  },
  {
   "cell_type": "code",
   "execution_count": 40,
   "metadata": {},
   "outputs": [
    {
     "data": {
      "text/plain": [
       "(154,)"
      ]
     },
     "execution_count": 40,
     "metadata": {},
     "output_type": "execute_result"
    }
   ],
   "source": [
    "df.Brand_Prod_ID.unique().shape"
   ]
  },
  {
   "cell_type": "code",
   "execution_count": 41,
   "metadata": {},
   "outputs": [
    {
     "name": "stdout",
     "output_type": "stream",
     "text": [
      "loaded 0.3246753246753247\n",
      "loaded 0.06493506493506493\n",
      "loaded 0.12987012987012986\n",
      "loaded 0.19480519480519481\n",
      "loaded 0.2597402597402597\n",
      "loaded 0.38961038961038963\n",
      "loaded 0.45454545454545453\n",
      "loaded 0.5194805194805194\n",
      "loaded 0.5844155844155844\n",
      "loaded 0.6493506493506493\n",
      "loaded 0.7142857142857143\n",
      "loaded 0.7792207792207793\n",
      "loaded 0.8441558441558441\n",
      "loaded 0.9090909090909091\n",
      "loaded 0.974025974025974\n"
     ]
    }
   ],
   "source": [
    "df_final= pd.DataFrame(columns=['Brand_Prod_ID','current_image_links','cloth_summary','cloth_form'])\n",
    "n_rows = len(df)\n",
    "\n",
    "for current_product_ID in df.Brand_Prod_ID:\n",
    "\n",
    "    current_image_links = get_related_links(current_product_ID)\n",
    "    current_description = df[df.Brand_Prod_ID == current_product_ID]['Descript']\n",
    "\n",
    "    cloth_summary = get_gpt_description(\n",
    "        current_images=current_image_links,\n",
    "        current_description=current_description\n",
    "        )\n",
    "    \n",
    "    \n",
    "    cloth_form = get_gpt_form(\n",
    "        current_images=current_image_links,\n",
    "        current_description=cloth_summary + \"\"\"/n     /n\"\"\" + current_description\n",
    "        )\n",
    "    \n",
    "    temp_df = pd.DataFrame([{\n",
    "        'Brand_Prod_ID':current_product_ID,\n",
    "        'current_image_links':current_image_links,\n",
    "        'cloth_summary':cloth_summary,\n",
    "        'cloth_form':cloth_form\n",
    "        }])\n",
    "    \n",
    "    df_final = pd.concat(\n",
    "            [df_final,temp_df],\n",
    "            ignore_index=True\n",
    "        )\n",
    "    \n",
    "    #load_form_to_db(current_product_ID = current_product_ID,form=cloth_form, Summary= cloth_summary)\n",
    "    update_form_in_db(current_product_ID = current_product_ID,form=cloth_form, Summary= cloth_summary)\n",
    "    \n",
    "    if current_product_ID % 10 == 0:\n",
    "        print(f\"loaded {(current_product_ID)/n_rows}\")\n",
    "\n",
    "    elif current_product_ID == 0:\n",
    "        print(f\"loaded {current_product_ID}\")"
   ]
  },
  {
   "cell_type": "markdown",
   "metadata": {},
   "source": [
    "# checking !!!"
   ]
  },
  {
   "cell_type": "code",
   "execution_count": 14,
   "metadata": {},
   "outputs": [],
   "source": [
    "Brand_Prod_ID = 25\n",
    "\n",
    "conn, cursor = SQLf.sql_db_functions.connect_sql()\n",
    "\n",
    "query = f\"SELECT Brand_Prod_ID, Descript  FROM Products WHERE Brand_Prod_ID = {Brand_Prod_ID}  ;\" #LIMIT 5\n",
    "cursor.execute(query)\n",
    "\n",
    "# Fetch the rows\n",
    "rows = cursor.fetchall()\n",
    "\n",
    "df = pd.DataFrame(data=rows, columns=['Brand_Prod_ID','Descript'])\n",
    "\n",
    "SQLf.sql_db_functions.close_connection_db(conn=conn, cursor=cursor)\n",
    "\n",
    "\n",
    "conn, cursor = SQLf.sql_db_functions.connect_sql()\n",
    "\n",
    "query = f\"SELECT image_link FROM product_img WHERE Brand_id = {Brand_Prod_ID} ;\"\n",
    "cursor.execute(query)\n",
    "# Fetch the rows\n",
    "image_links = cursor.fetchall()\n",
    "\n",
    "SQLf.sql_db_functions.close_connection_db(conn=conn, cursor=cursor)\n",
    "\n",
    "df_images_temp = pd.DataFrame(data=image_links, columns=['image_link'])\n",
    "df_images_temp.head()\n",
    "\n",
    "df_images_temp['image_link'] = df_images_temp['image_link'].apply(lambda x: x if 'https' in x else 'https:' +  x )\n"
   ]
  },
  {
   "cell_type": "code",
   "execution_count": 15,
   "metadata": {},
   "outputs": [
    {
     "data": {
      "text/html": [
       "<div>\n",
       "<style scoped>\n",
       "    .dataframe tbody tr th:only-of-type {\n",
       "        vertical-align: middle;\n",
       "    }\n",
       "\n",
       "    .dataframe tbody tr th {\n",
       "        vertical-align: top;\n",
       "    }\n",
       "\n",
       "    .dataframe thead th {\n",
       "        text-align: right;\n",
       "    }\n",
       "</style>\n",
       "<table border=\"1\" class=\"dataframe\">\n",
       "  <thead>\n",
       "    <tr style=\"text-align: right;\">\n",
       "      <th></th>\n",
       "      <th>Brand_Prod_ID</th>\n",
       "      <th>Descript</th>\n",
       "    </tr>\n",
       "  </thead>\n",
       "  <tbody>\n",
       "    <tr>\n",
       "      <th>0</th>\n",
       "      <td>20</td>\n",
       "      <td>Ispirato allo spirito estivo e ai beach club d...</td>\n",
       "    </tr>\n",
       "  </tbody>\n",
       "</table>\n",
       "</div>"
      ],
      "text/plain": [
       "   Brand_Prod_ID                                           Descript\n",
       "0             20  Ispirato allo spirito estivo e ai beach club d..."
      ]
     },
     "execution_count": 15,
     "metadata": {},
     "output_type": "execute_result"
    }
   ],
   "source": [
    "df.head()"
   ]
  },
  {
   "cell_type": "code",
   "execution_count": 16,
   "metadata": {},
   "outputs": [
    {
     "data": {
      "text/plain": [
       "\"Ispirato allo spirito estivo e ai beach club della costa italiana, questo articolo fa parte della linea Gucci Lido. I codici emblematici della Maison e gli eleganti motivi vengono reinterpretati in chiave contemporanea per la collezione Pre-Fall. Questa maglia dal taglio dritto in twill di seta è definita da una stampa Morsetto Gucci e righe, che rende omaggio alla tradizione equestre della Maison.  Twill di seta marrone e verde con stampa Morsetto Gucci e righe Profilo bianco Senza fodera Girocollo Maniche corte Chiusura con bottoni oversize Lunghezza: 77 cm; taglia 42 (IT) Fabbricato in Italia Il prodotto raffigurato nell'immagine è taglia 42 (IT)\""
      ]
     },
     "execution_count": 16,
     "metadata": {},
     "output_type": "execute_result"
    }
   ],
   "source": [
    "df.Descript[0]"
   ]
  },
  {
   "cell_type": "code",
   "execution_count": 17,
   "metadata": {},
   "outputs": [
    {
     "name": "stdout",
     "output_type": "stream",
     "text": [
      "https://media.gucci.com/style/DarkGray_Center_0_0_980x980/1711564261/785724_ZAQTF_2054_001_100_0000_Light-Maglia-in-seta-con-stampa-Morsetto-Gucci-e-righe.jpg\n",
      "https://media.gucci.com/style/DarkGray_Center_0_0_980x980/1711564264/785724_ZAQTF_2054_004_100_0000_Light-Maglia-in-seta-con-stampa-Morsetto-Gucci-e-righe.jpg\n",
      "https://media.gucci.com/style/DarkGray_Center_0_0_980x980/1711564264/785724_ZAQTF_2054_005_100_0000_Light-Maglia-in-seta-con-stampa-Morsetto-Gucci-e-righe.jpg\n",
      "https://media.gucci.com/style/White_Center_0_0_730x490/1711564261/785724_ZAQTF_2054_001_100_0000_Light-Maglia-in-seta-con-stampa-Morsetto-Gucci-e-righe.jpg\n"
     ]
    }
   ],
   "source": [
    "for i in df_images_temp.image_link:\n",
    "    print(i)"
   ]
  },
  {
   "cell_type": "markdown",
   "metadata": {},
   "source": [
    "## check only prod"
   ]
  },
  {
   "cell_type": "code",
   "execution_count": 18,
   "metadata": {},
   "outputs": [],
   "source": [
    "current_product_ID = Brand_Prod_ID\n",
    "\n",
    "current_image_links = get_related_links(current_product_ID)\n",
    "current_description = df[df.Brand_Prod_ID == current_product_ID]['Descript']"
   ]
  },
  {
   "cell_type": "code",
   "execution_count": 20,
   "metadata": {},
   "outputs": [
    {
     "data": {
      "text/plain": [
       "\"Ispirato allo spirito estivo e ai beach club della costa italiana, questo articolo fa parte della linea Gucci Lido. I codici emblematici della Maison e gli eleganti motivi vengono reinterpretati in chiave contemporanea per la collezione Pre-Fall. Questa maglia dal taglio dritto in twill di seta è definita da una stampa Morsetto Gucci e righe, che rende omaggio alla tradizione equestre della Maison.  Twill di seta marrone e verde con stampa Morsetto Gucci e righe Profilo bianco Senza fodera Girocollo Maniche corte Chiusura con bottoni oversize Lunghezza: 77 cm; taglia 42 (IT) Fabbricato in Italia Il prodotto raffigurato nell'immagine è taglia 42 (IT)\""
      ]
     },
     "execution_count": 20,
     "metadata": {},
     "output_type": "execute_result"
    }
   ],
   "source": [
    "current_description[0]"
   ]
  },
  {
   "cell_type": "code",
   "execution_count": 26,
   "metadata": {},
   "outputs": [
    {
     "data": {
      "text/plain": [
       "\"Ispirato allo spirito estivo e ai beach club della costa italiana, questo articolo fa parte della linea Gucci Lido. I codici emblematici della Maison e gli eleganti motivi vengono reinterpretati in chiave contemporanea per la collezione Pre-Fall. Questa maglia dal taglio dritto in twill di seta è definita da una stampa Morsetto Gucci e righe, che rende omaggio alla tradizione equestre della Maison.  Twill di seta marrone e verde con stampa Morsetto Gucci e righe Profilo bianco Senza fodera Girocollo Maniche corte Chiusura con bottoni oversize Lunghezza: 77 cm; taglia 42 (IT) Fabbricato in Italia Il prodotto raffigurato nell'immagine è taglia 42 (IT)\""
      ]
     },
     "execution_count": 26,
     "metadata": {},
     "output_type": "execute_result"
    }
   ],
   "source": [
    "current_description.values[0]"
   ]
  },
  {
   "cell_type": "code",
   "execution_count": 21,
   "metadata": {},
   "outputs": [],
   "source": [
    "cloth_summary = get_gpt_description(\n",
    "    current_images=current_image_links,\n",
    "    current_description=current_description\n",
    ")"
   ]
  },
  {
   "cell_type": "code",
   "execution_count": 27,
   "metadata": {},
   "outputs": [
    {
     "data": {
      "text/plain": [
       "\"The showcased top is a Gucci silk shirt inspired by the summer spirit and beach club aesthetics. It features a relaxed, loose fit that ensures comfort and ease of movement, suitable for warm weather. Constructed from lightweight, breathable silk, the shirt is ideal for summer and beach vacations. The primary color of the shirt is a rich, earthy brown, accented with cream and dark green stripes that run vertically down the shirt, enhancing its elongated shape. The shirt's texture is smooth and luxurious, with a slight sheen typical of high-quality silk. The fabric is lightweight and fluid, which adds to its breezy and airy feel. The shirt has long sleeves with buttoned cuffs, a classic point collar, and a button-down front, contributing to its semi-formal to casual versatility.\\n\\nThe shirt is adorned with Gucci's signature Morsetto (horsebit) print in a contrasting dark green, placed strategically between the vertical stripes, giving it a distinctive and recognizable look. There are no pockets, lapels, or additional embellishments, keeping the design sleek and sophisticated. The length of the shirt extends slightly below the hips, providing a flattering silhouette that can be tucked in or left out. The shirt's overall design makes it suitable for various occasions, from a casual day out to a chic beachside gathering. The combination of its lightweight fabric, breathability, and stylish pattern ensures it is both practical and fashionable for the summer season.\""
      ]
     },
     "execution_count": 27,
     "metadata": {},
     "output_type": "execute_result"
    }
   ],
   "source": [
    "cloth_summary"
   ]
  },
  {
   "cell_type": "code",
   "execution_count": 23,
   "metadata": {},
   "outputs": [],
   "source": [
    "cloth_form = get_gpt_form(\n",
    "        current_images=current_image_links,\n",
    "        current_description=cloth_summary + \"\"\"/n     /n\"\"\" + current_description\n",
    "        )"
   ]
  },
  {
   "cell_type": "code",
   "execution_count": 28,
   "metadata": {},
   "outputs": [
    {
     "data": {
      "text/plain": [
       "'*Type: Top - Shirt  \\n*Fit: Regular fit  \\n*Sleeve style: Long sleeve  \\n*Neckline: Not applicable  \\n*Material: Silk  \\n*Formality: Formal  \\n*Season: Spring, Summer, Autumn  \\n*Colors: Beige (70%), Green (15%), Red (10%), Blue (5%)  \\n*Texture: Smooth  \\n*Transparency: Opaque  \\n*Details and Embellishments: Buttons  \\n*Shape: Fitted  \\n*Length: Hip-length  \\n*Collar Style: Button-down  \\n*Patterns: Stripes, Geometric  \\n*Patterns placement: All over  \\n*Fluidity of fabric: High  \\n*Fabric weight: Light  \\n*Pocket Presence: No  \\n*Pocket placement: Not applicable  \\n*Pocket size: Not applicable  \\n*Breathability: High  \\n*Occasion Suitability: Formal, Business casual  \\n*Lapel: Not applicable'"
      ]
     },
     "execution_count": 28,
     "metadata": {},
     "output_type": "execute_result"
    }
   ],
   "source": [
    "cloth_form"
   ]
  }
 ],
 "metadata": {
  "kernelspec": {
   "display_name": "Python 3",
   "language": "python",
   "name": "python3"
  },
  "language_info": {
   "codemirror_mode": {
    "name": "ipython",
    "version": 3
   },
   "file_extension": ".py",
   "mimetype": "text/x-python",
   "name": "python",
   "nbconvert_exporter": "python",
   "pygments_lexer": "ipython3",
   "version": "3.11.8"
  }
 },
 "nbformat": 4,
 "nbformat_minor": 2
}
