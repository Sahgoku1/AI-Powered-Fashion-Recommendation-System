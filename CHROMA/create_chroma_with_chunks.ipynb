{
 "cells": [
  {
   "cell_type": "code",
   "execution_count": 1,
   "metadata": {},
   "outputs": [],
   "source": [
    "import sys, os\n",
    "sys.path.append(os.path.join(os.path.dirname('__file__'), '..', 'DB_and_Azure'))\n",
    "import sql_db_functions as SQLf"
   ]
  },
  {
   "cell_type": "markdown",
   "metadata": {},
   "source": [
    "### get data from server"
   ]
  },
  {
   "cell_type": "code",
   "execution_count": 2,
   "metadata": {},
   "outputs": [],
   "source": [
    "conn, cursor = SQLf.sql_db_functions.connect_sql()"
   ]
  },
  {
   "cell_type": "code",
   "execution_count": 3,
   "metadata": {},
   "outputs": [
    {
     "data": {
      "text/plain": [
       "(10,\n",
       " 50,\n",
       " '*Type: Top, Shirt  \\n*Fit: Regular fit  \\n*Sleeve style: Long sleeve  \\n*Neckline: Crew neck  \\n*Material: Cotton  \\n*Formality: Casual  \\n*Season: Spring, Summer, Autumn  \\n*Colors: White (100%)  \\n*Texture: Smooth  \\n*Transparency: Opaque  \\n*Details and Embellishments: Not applicable  \\n*Shape: Fitted  \\n*Length: Hip-length  \\n*Collar Style: Crew neck  \\n*Patterns: Not applicable  \\n*Patterns placement: Not applicable  \\n*Fluidity of fabric: Medium  \\n*Fabric weight: Light  \\n*Pocket Presence: No  \\n*Pocket placement: Not applicable  \\n*Pocket size: Not applicable  \\n*Breathability: High  \\n*Occasion Suitability: Casual  \\n*Lapel: Not applicable',\n",
       " 'The top showcased in the images is a stylish shirt featuring a relaxed fit, making it suitable for casual wear. Crafted from lightweight, breathable fabric, it is ideal for warmer seasons like spring and summer. The shirt exhibits a smooth texture with a slight sheen, enhancing its visual appeal. It is predominantly white, which adds to its versatility and suitability for various occasions. The shirt has a classic collar style and a button-up front, contributing to its semi-formal look. The sleeves are long with buttoned cuffs, allowing for adjustability. The shirt does not have any pockets, maintaining a clean and streamlined appearance. There are no visible patterns or embellishments, emphasizing its minimalist design. The length of the shirt is standard, reaching just below the hips, and the fabric drapes fluidly, offering a comfortable and airy feel. The overall design is simple yet elegant, making it a versatile piece for both casual and semi-formal settings.',\n",
       " 'HM')"
      ]
     },
     "execution_count": 3,
     "metadata": {},
     "output_type": "execute_result"
    }
   ],
   "source": [
    "query = \"SELECT product_characteristics.id, Brand_id , Detail, Summary, Brand FROM product_characteristics INNER JOIN Products ON product_characteristics.Brand_id = Products.Brand_Prod_id ;\"\n",
    "cursor.execute(query)\n",
    "\n",
    "# Fetch the rows\n",
    "rows = cursor.fetchall()\n",
    "rows[0]"
   ]
  },
  {
   "cell_type": "code",
   "execution_count": 4,
   "metadata": {},
   "outputs": [],
   "source": [
    "conn, cursor = SQLf.sql_db_functions.connect_sql()"
   ]
  },
  {
   "cell_type": "code",
   "execution_count": 5,
   "metadata": {},
   "outputs": [],
   "source": [
    "query = \"SELECT Brand_id, base64 FROM product_img ;\"\n",
    "cursor.execute(query)\n",
    "\n",
    "# Fetch the rows\n",
    "rows_img = cursor.fetchall()\n",
    "#rows_img"
   ]
  },
  {
   "cell_type": "code",
   "execution_count": 6,
   "metadata": {},
   "outputs": [
    {
     "data": {
      "text/plain": [
       "629"
      ]
     },
     "execution_count": 6,
     "metadata": {},
     "output_type": "execute_result"
    }
   ],
   "source": [
    "len(rows_img)"
   ]
  },
  {
   "cell_type": "code",
   "execution_count": 7,
   "metadata": {},
   "outputs": [],
   "source": [
    "SQLf.sql_db_functions.close_connection_db(conn=conn,cursor=cursor)"
   ]
  },
  {
   "cell_type": "markdown",
   "metadata": {},
   "source": [
    "### organize data"
   ]
  },
  {
   "cell_type": "code",
   "execution_count": 8,
   "metadata": {},
   "outputs": [],
   "source": [
    "import pandas as pd"
   ]
  },
  {
   "cell_type": "code",
   "execution_count": 9,
   "metadata": {},
   "outputs": [],
   "source": [
    "df = pd.DataFrame(rows ,columns= ['Id','prod_id','descripcion', 'Summary','Brand'])"
   ]
  },
  {
   "cell_type": "code",
   "execution_count": 10,
   "metadata": {},
   "outputs": [
    {
     "data": {
      "text/html": [
       "<div>\n",
       "<style scoped>\n",
       "    .dataframe tbody tr th:only-of-type {\n",
       "        vertical-align: middle;\n",
       "    }\n",
       "\n",
       "    .dataframe tbody tr th {\n",
       "        vertical-align: top;\n",
       "    }\n",
       "\n",
       "    .dataframe thead th {\n",
       "        text-align: right;\n",
       "    }\n",
       "</style>\n",
       "<table border=\"1\" class=\"dataframe\">\n",
       "  <thead>\n",
       "    <tr style=\"text-align: right;\">\n",
       "      <th></th>\n",
       "      <th>Id</th>\n",
       "      <th>prod_id</th>\n",
       "      <th>descripcion</th>\n",
       "      <th>Summary</th>\n",
       "      <th>Brand</th>\n",
       "    </tr>\n",
       "  </thead>\n",
       "  <tbody>\n",
       "    <tr>\n",
       "      <th>0</th>\n",
       "      <td>10</td>\n",
       "      <td>50</td>\n",
       "      <td>*Type: Top, Shirt  \\n*Fit: Regular fit  \\n*Sle...</td>\n",
       "      <td>The top showcased in the images is a stylish s...</td>\n",
       "      <td>HM</td>\n",
       "    </tr>\n",
       "    <tr>\n",
       "      <th>1</th>\n",
       "      <td>101</td>\n",
       "      <td>101</td>\n",
       "      <td>*Type: Top, Shirt  \\n*Fit: Regular fit  \\n*Sle...</td>\n",
       "      <td>The top showcased in the images is a fluid fab...</td>\n",
       "      <td>Mango</td>\n",
       "    </tr>\n",
       "    <tr>\n",
       "      <th>2</th>\n",
       "      <td>4</td>\n",
       "      <td>4</td>\n",
       "      <td>*Type: Shirt  \\n*Fit: Regular fit  \\n*Sleeve s...</td>\n",
       "      <td>The shirt from Gucci, as shown in the images, ...</td>\n",
       "      <td>Gucci</td>\n",
       "    </tr>\n",
       "    <tr>\n",
       "      <th>3</th>\n",
       "      <td>2</td>\n",
       "      <td>2</td>\n",
       "      <td>*Type: Shirt  \\n*Fit: Regular fit  \\n*Sleeve s...</td>\n",
       "      <td>The showcased shirt is a Gucci Oxford cotton s...</td>\n",
       "      <td>Gucci</td>\n",
       "    </tr>\n",
       "    <tr>\n",
       "      <th>4</th>\n",
       "      <td>8</td>\n",
       "      <td>8</td>\n",
       "      <td>*Type: Top  \\n*Fit: Regular fit  \\n*Sleeve sty...</td>\n",
       "      <td>The top showcased in the images is a Gucci flo...</td>\n",
       "      <td>Gucci</td>\n",
       "    </tr>\n",
       "  </tbody>\n",
       "</table>\n",
       "</div>"
      ],
      "text/plain": [
       "    Id  prod_id                                        descripcion  \\\n",
       "0   10       50  *Type: Top, Shirt  \\n*Fit: Regular fit  \\n*Sle...   \n",
       "1  101      101  *Type: Top, Shirt  \\n*Fit: Regular fit  \\n*Sle...   \n",
       "2    4        4  *Type: Shirt  \\n*Fit: Regular fit  \\n*Sleeve s...   \n",
       "3    2        2  *Type: Shirt  \\n*Fit: Regular fit  \\n*Sleeve s...   \n",
       "4    8        8  *Type: Top  \\n*Fit: Regular fit  \\n*Sleeve sty...   \n",
       "\n",
       "                                             Summary  Brand  \n",
       "0  The top showcased in the images is a stylish s...     HM  \n",
       "1  The top showcased in the images is a fluid fab...  Mango  \n",
       "2  The shirt from Gucci, as shown in the images, ...  Gucci  \n",
       "3  The showcased shirt is a Gucci Oxford cotton s...  Gucci  \n",
       "4  The top showcased in the images is a Gucci flo...  Gucci  "
      ]
     },
     "execution_count": 10,
     "metadata": {},
     "output_type": "execute_result"
    }
   ],
   "source": [
    "df.head()"
   ]
  },
  {
   "cell_type": "code",
   "execution_count": 11,
   "metadata": {},
   "outputs": [
    {
     "data": {
      "text/html": [
       "<div>\n",
       "<style scoped>\n",
       "    .dataframe tbody tr th:only-of-type {\n",
       "        vertical-align: middle;\n",
       "    }\n",
       "\n",
       "    .dataframe tbody tr th {\n",
       "        vertical-align: top;\n",
       "    }\n",
       "\n",
       "    .dataframe thead th {\n",
       "        text-align: right;\n",
       "    }\n",
       "</style>\n",
       "<table border=\"1\" class=\"dataframe\">\n",
       "  <thead>\n",
       "    <tr style=\"text-align: right;\">\n",
       "      <th></th>\n",
       "      <th>Id</th>\n",
       "      <th>prod_id</th>\n",
       "      <th>descripcion</th>\n",
       "      <th>Summary</th>\n",
       "      <th>Brand</th>\n",
       "    </tr>\n",
       "  </thead>\n",
       "  <tbody>\n",
       "    <tr>\n",
       "      <th>0</th>\n",
       "      <td>10</td>\n",
       "      <td>50</td>\n",
       "      <td>Type: Top, Shirt   / Fit: Regular fit   / Sle...</td>\n",
       "      <td>The top showcased in the images is a stylish s...</td>\n",
       "      <td>HM</td>\n",
       "    </tr>\n",
       "    <tr>\n",
       "      <th>1</th>\n",
       "      <td>101</td>\n",
       "      <td>101</td>\n",
       "      <td>Type: Top, Shirt   / Fit: Regular fit   / Sle...</td>\n",
       "      <td>The top showcased in the images is a fluid fab...</td>\n",
       "      <td>Mango</td>\n",
       "    </tr>\n",
       "    <tr>\n",
       "      <th>2</th>\n",
       "      <td>4</td>\n",
       "      <td>4</td>\n",
       "      <td>Type: Shirt   / Fit: Regular fit   / Sleeve s...</td>\n",
       "      <td>The shirt from Gucci, as shown in the images, ...</td>\n",
       "      <td>Gucci</td>\n",
       "    </tr>\n",
       "    <tr>\n",
       "      <th>3</th>\n",
       "      <td>2</td>\n",
       "      <td>2</td>\n",
       "      <td>Type: Shirt   / Fit: Regular fit   / Sleeve s...</td>\n",
       "      <td>The showcased shirt is a Gucci Oxford cotton s...</td>\n",
       "      <td>Gucci</td>\n",
       "    </tr>\n",
       "    <tr>\n",
       "      <th>4</th>\n",
       "      <td>8</td>\n",
       "      <td>8</td>\n",
       "      <td>Type: Top   / Fit: Regular fit   / Sleeve sty...</td>\n",
       "      <td>The top showcased in the images is a Gucci flo...</td>\n",
       "      <td>Gucci</td>\n",
       "    </tr>\n",
       "  </tbody>\n",
       "</table>\n",
       "</div>"
      ],
      "text/plain": [
       "    Id  prod_id                                        descripcion  \\\n",
       "0   10       50   Type: Top, Shirt   / Fit: Regular fit   / Sle...   \n",
       "1  101      101   Type: Top, Shirt   / Fit: Regular fit   / Sle...   \n",
       "2    4        4   Type: Shirt   / Fit: Regular fit   / Sleeve s...   \n",
       "3    2        2   Type: Shirt   / Fit: Regular fit   / Sleeve s...   \n",
       "4    8        8   Type: Top   / Fit: Regular fit   / Sleeve sty...   \n",
       "\n",
       "                                             Summary  Brand  \n",
       "0  The top showcased in the images is a stylish s...     HM  \n",
       "1  The top showcased in the images is a fluid fab...  Mango  \n",
       "2  The shirt from Gucci, as shown in the images, ...  Gucci  \n",
       "3  The showcased shirt is a Gucci Oxford cotton s...  Gucci  \n",
       "4  The top showcased in the images is a Gucci flo...  Gucci  "
      ]
     },
     "execution_count": 11,
     "metadata": {},
     "output_type": "execute_result"
    }
   ],
   "source": [
    "df['descripcion'] = df['descripcion'].str.replace('\\n*', ' / ')\n",
    "df['descripcion'] = df['descripcion'].str.replace(r'\\s+', ' ')\n",
    "df['descripcion'] = df['descripcion'].str.replace('*', ' ')\n",
    "\n",
    "df.head(5)"
   ]
  },
  {
   "cell_type": "code",
   "execution_count": 12,
   "metadata": {},
   "outputs": [
    {
     "data": {
      "text/html": [
       "<div>\n",
       "<style scoped>\n",
       "    .dataframe tbody tr th:only-of-type {\n",
       "        vertical-align: middle;\n",
       "    }\n",
       "\n",
       "    .dataframe tbody tr th {\n",
       "        vertical-align: top;\n",
       "    }\n",
       "\n",
       "    .dataframe thead th {\n",
       "        text-align: right;\n",
       "    }\n",
       "</style>\n",
       "<table border=\"1\" class=\"dataframe\">\n",
       "  <thead>\n",
       "    <tr style=\"text-align: right;\">\n",
       "      <th></th>\n",
       "      <th>Id</th>\n",
       "      <th>prod_id</th>\n",
       "      <th>descripcion</th>\n",
       "      <th>Summary</th>\n",
       "      <th>Brand</th>\n",
       "      <th>Complete_description</th>\n",
       "    </tr>\n",
       "  </thead>\n",
       "  <tbody>\n",
       "    <tr>\n",
       "      <th>0</th>\n",
       "      <td>10</td>\n",
       "      <td>50</td>\n",
       "      <td>Type: Top, Shirt   / Fit: Regular fit   / Sle...</td>\n",
       "      <td>The top showcased in the images is a stylish s...</td>\n",
       "      <td>HM</td>\n",
       "      <td>The top showcased in the images is a stylish s...</td>\n",
       "    </tr>\n",
       "    <tr>\n",
       "      <th>1</th>\n",
       "      <td>101</td>\n",
       "      <td>101</td>\n",
       "      <td>Type: Top, Shirt   / Fit: Regular fit   / Sle...</td>\n",
       "      <td>The top showcased in the images is a fluid fab...</td>\n",
       "      <td>Mango</td>\n",
       "      <td>The top showcased in the images is a fluid fab...</td>\n",
       "    </tr>\n",
       "    <tr>\n",
       "      <th>2</th>\n",
       "      <td>4</td>\n",
       "      <td>4</td>\n",
       "      <td>Type: Shirt   / Fit: Regular fit   / Sleeve s...</td>\n",
       "      <td>The shirt from Gucci, as shown in the images, ...</td>\n",
       "      <td>Gucci</td>\n",
       "      <td>The shirt from Gucci, as shown in the images, ...</td>\n",
       "    </tr>\n",
       "    <tr>\n",
       "      <th>3</th>\n",
       "      <td>2</td>\n",
       "      <td>2</td>\n",
       "      <td>Type: Shirt   / Fit: Regular fit   / Sleeve s...</td>\n",
       "      <td>The showcased shirt is a Gucci Oxford cotton s...</td>\n",
       "      <td>Gucci</td>\n",
       "      <td>The showcased shirt is a Gucci Oxford cotton s...</td>\n",
       "    </tr>\n",
       "    <tr>\n",
       "      <th>4</th>\n",
       "      <td>8</td>\n",
       "      <td>8</td>\n",
       "      <td>Type: Top   / Fit: Regular fit   / Sleeve sty...</td>\n",
       "      <td>The top showcased in the images is a Gucci flo...</td>\n",
       "      <td>Gucci</td>\n",
       "      <td>The top showcased in the images is a Gucci flo...</td>\n",
       "    </tr>\n",
       "  </tbody>\n",
       "</table>\n",
       "</div>"
      ],
      "text/plain": [
       "    Id  prod_id                                        descripcion  \\\n",
       "0   10       50   Type: Top, Shirt   / Fit: Regular fit   / Sle...   \n",
       "1  101      101   Type: Top, Shirt   / Fit: Regular fit   / Sle...   \n",
       "2    4        4   Type: Shirt   / Fit: Regular fit   / Sleeve s...   \n",
       "3    2        2   Type: Shirt   / Fit: Regular fit   / Sleeve s...   \n",
       "4    8        8   Type: Top   / Fit: Regular fit   / Sleeve sty...   \n",
       "\n",
       "                                             Summary  Brand  \\\n",
       "0  The top showcased in the images is a stylish s...     HM   \n",
       "1  The top showcased in the images is a fluid fab...  Mango   \n",
       "2  The shirt from Gucci, as shown in the images, ...  Gucci   \n",
       "3  The showcased shirt is a Gucci Oxford cotton s...  Gucci   \n",
       "4  The top showcased in the images is a Gucci flo...  Gucci   \n",
       "\n",
       "                                Complete_description  \n",
       "0  The top showcased in the images is a stylish s...  \n",
       "1  The top showcased in the images is a fluid fab...  \n",
       "2  The shirt from Gucci, as shown in the images, ...  \n",
       "3  The showcased shirt is a Gucci Oxford cotton s...  \n",
       "4  The top showcased in the images is a Gucci flo...  "
      ]
     },
     "execution_count": 12,
     "metadata": {},
     "output_type": "execute_result"
    }
   ],
   "source": [
    "df['Complete_description'] = df['Summary'] + ' /' + \"Brand: \" + df['Brand'] + \" /\" + df['descripcion']\n",
    "df.head()"
   ]
  },
  {
   "cell_type": "code",
   "execution_count": 13,
   "metadata": {},
   "outputs": [],
   "source": [
    "documents = df['Complete_description'].tolist()\n",
    "id = df['Id'].astype('str').tolist()\n",
    "metadata = [{\"source\": id} for id in df['Id'].astype('str').tolist()]"
   ]
  },
  {
   "cell_type": "code",
   "execution_count": 14,
   "metadata": {},
   "outputs": [],
   "source": [
    "df_image = pd.DataFrame(rows_img, columns=['prod_id', 'base64'])"
   ]
  },
  {
   "cell_type": "code",
   "execution_count": 15,
   "metadata": {},
   "outputs": [
    {
     "data": {
      "text/html": [
       "<div>\n",
       "<style scoped>\n",
       "    .dataframe tbody tr th:only-of-type {\n",
       "        vertical-align: middle;\n",
       "    }\n",
       "\n",
       "    .dataframe tbody tr th {\n",
       "        vertical-align: top;\n",
       "    }\n",
       "\n",
       "    .dataframe thead th {\n",
       "        text-align: right;\n",
       "    }\n",
       "</style>\n",
       "<table border=\"1\" class=\"dataframe\">\n",
       "  <thead>\n",
       "    <tr style=\"text-align: right;\">\n",
       "      <th></th>\n",
       "      <th>prod_id</th>\n",
       "      <th>base64</th>\n",
       "    </tr>\n",
       "  </thead>\n",
       "  <tbody>\n",
       "    <tr>\n",
       "      <th>0</th>\n",
       "      <td>1</td>\n",
       "      <td>data:image/jpeg;base64, /9j/4AAQSkZJRgABAQAAAQ...</td>\n",
       "    </tr>\n",
       "    <tr>\n",
       "      <th>1</th>\n",
       "      <td>1</td>\n",
       "      <td>data:image/jpeg;base64, /9j/4AAQSkZJRgABAQAAAQ...</td>\n",
       "    </tr>\n",
       "  </tbody>\n",
       "</table>\n",
       "</div>"
      ],
      "text/plain": [
       "   prod_id                                             base64\n",
       "0        1  data:image/jpeg;base64, /9j/4AAQSkZJRgABAQAAAQ...\n",
       "1        1  data:image/jpeg;base64, /9j/4AAQSkZJRgABAQAAAQ..."
      ]
     },
     "execution_count": 15,
     "metadata": {},
     "output_type": "execute_result"
    }
   ],
   "source": [
    "df_image.head(2)"
   ]
  },
  {
   "cell_type": "code",
   "execution_count": 16,
   "metadata": {},
   "outputs": [
    {
     "data": {
      "text/plain": [
       "(629, 2)"
      ]
     },
     "execution_count": 16,
     "metadata": {},
     "output_type": "execute_result"
    }
   ],
   "source": [
    "df_image.shape"
   ]
  },
  {
   "cell_type": "code",
   "execution_count": 17,
   "metadata": {},
   "outputs": [],
   "source": [
    "del rows, rows_img"
   ]
  },
  {
   "cell_type": "markdown",
   "metadata": {},
   "source": [
    "### Get images "
   ]
  },
  {
   "cell_type": "code",
   "execution_count": 18,
   "metadata": {},
   "outputs": [],
   "source": [
    "import base64\n",
    "from io import BytesIO\n",
    "from PIL import Image"
   ]
  },
  {
   "cell_type": "code",
   "execution_count": 19,
   "metadata": {},
   "outputs": [],
   "source": [
    "def base64_to_image(base64_string):\n",
    "    # Remove the data URI prefix if present\n",
    "    if \"data:image\" in base64_string:\n",
    "        base64_string = base64_string.split(\",\")[1]\n",
    "\n",
    "    # Decode the Base64 string into bytes\n",
    "    image_bytes = base64.b64decode(base64_string)\n",
    "    return image_bytes"
   ]
  },
  {
   "cell_type": "code",
   "execution_count": 20,
   "metadata": {},
   "outputs": [],
   "source": [
    "def create_image_from_bytes(image_bytes):\n",
    "    # Create a BytesIO object to handle the image data\n",
    "    image_stream = BytesIO(image_bytes)\n",
    "\n",
    "    # Open the image using Pillow (PIL)\n",
    "    image = Image.open(image_stream)\n",
    "    return image"
   ]
  },
  {
   "cell_type": "code",
   "execution_count": 21,
   "metadata": {},
   "outputs": [],
   "source": [
    "def resize_image(image, new_width):\n",
    "    # Open the image\n",
    "\n",
    "    # Calculate the new height while maintaining the aspect ratio\n",
    "    original_width, original_height = image.size\n",
    "    aspect_ratio = original_height / original_width\n",
    "    new_height = int(new_width * aspect_ratio)\n",
    "\n",
    "    # Resize the image\n",
    "    resized_image = image.resize((new_width, new_height), Image.ANTIALIAS)\n",
    "\n",
    "    return resized_image\n"
   ]
  },
  {
   "cell_type": "code",
   "execution_count": 22,
   "metadata": {},
   "outputs": [
    {
     "data": {
      "text/html": [
       "<div>\n",
       "<style scoped>\n",
       "    .dataframe tbody tr th:only-of-type {\n",
       "        vertical-align: middle;\n",
       "    }\n",
       "\n",
       "    .dataframe tbody tr th {\n",
       "        vertical-align: top;\n",
       "    }\n",
       "\n",
       "    .dataframe thead th {\n",
       "        text-align: right;\n",
       "    }\n",
       "</style>\n",
       "<table border=\"1\" class=\"dataframe\">\n",
       "  <thead>\n",
       "    <tr style=\"text-align: right;\">\n",
       "      <th></th>\n",
       "      <th>prod_id</th>\n",
       "      <th>base64</th>\n",
       "    </tr>\n",
       "  </thead>\n",
       "  <tbody>\n",
       "    <tr>\n",
       "      <th>0</th>\n",
       "      <td>1</td>\n",
       "      <td>data:image/jpeg;base64, /9j/4AAQSkZJRgABAQAAAQ...</td>\n",
       "    </tr>\n",
       "    <tr>\n",
       "      <th>1</th>\n",
       "      <td>1</td>\n",
       "      <td>data:image/jpeg;base64, /9j/4AAQSkZJRgABAQAAAQ...</td>\n",
       "    </tr>\n",
       "    <tr>\n",
       "      <th>2</th>\n",
       "      <td>1</td>\n",
       "      <td>data:image/jpeg;base64, /9j/4AAQSkZJRgABAQAAAQ...</td>\n",
       "    </tr>\n",
       "    <tr>\n",
       "      <th>3</th>\n",
       "      <td>1</td>\n",
       "      <td>data:image/jpeg;base64, /9j/4AAQSkZJRgABAQAAAQ...</td>\n",
       "    </tr>\n",
       "    <tr>\n",
       "      <th>4</th>\n",
       "      <td>2</td>\n",
       "      <td>data:image/jpeg;base64, /9j/4AAQSkZJRgABAQAAAQ...</td>\n",
       "    </tr>\n",
       "  </tbody>\n",
       "</table>\n",
       "</div>"
      ],
      "text/plain": [
       "   prod_id                                             base64\n",
       "0        1  data:image/jpeg;base64, /9j/4AAQSkZJRgABAQAAAQ...\n",
       "1        1  data:image/jpeg;base64, /9j/4AAQSkZJRgABAQAAAQ...\n",
       "2        1  data:image/jpeg;base64, /9j/4AAQSkZJRgABAQAAAQ...\n",
       "3        1  data:image/jpeg;base64, /9j/4AAQSkZJRgABAQAAAQ...\n",
       "4        2  data:image/jpeg;base64, /9j/4AAQSkZJRgABAQAAAQ..."
      ]
     },
     "execution_count": 22,
     "metadata": {},
     "output_type": "execute_result"
    }
   ],
   "source": [
    "df_image.head()"
   ]
  },
  {
   "cell_type": "code",
   "execution_count": 23,
   "metadata": {},
   "outputs": [
    {
     "data": {
      "text/plain": [
       "prod_id                                                   11\n",
       "base64     data:image/jpeg;base64, /9j/4AAQSkZJRgABAQAAAQ...\n",
       "Name: 42, dtype: object"
      ]
     },
     "execution_count": 23,
     "metadata": {},
     "output_type": "execute_result"
    }
   ],
   "source": [
    "df_image.iloc[42]"
   ]
  },
  {
   "cell_type": "markdown",
   "metadata": {},
   "source": [
    "### Testing embeddings"
   ]
  },
  {
   "cell_type": "code",
   "execution_count": 24,
   "metadata": {},
   "outputs": [],
   "source": [
    "import pandas as pd"
   ]
  },
  {
   "cell_type": "code",
   "execution_count": 25,
   "metadata": {},
   "outputs": [],
   "source": [
    "import uuid\n",
    "from langchain.vectorstores import Chroma\n",
    "from langchain.storage import InMemoryStore\n",
    "from langchain.schema.document import Document\n",
    "from langchain.retrievers.multi_vector import MultiVectorRetriever"
   ]
  },
  {
   "cell_type": "code",
   "execution_count": 26,
   "metadata": {},
   "outputs": [],
   "source": [
    "from langchain_community.embeddings.sentence_transformer import (\n",
    "    SentenceTransformerEmbeddings,\n",
    ")"
   ]
  },
  {
   "cell_type": "code",
   "execution_count": 27,
   "metadata": {},
   "outputs": [
    {
     "name": "stderr",
     "output_type": "stream",
     "text": [
      "c:\\Users\\juand\\anaconda3\\Lib\\site-packages\\langchain_core\\_api\\deprecation.py:139: LangChainDeprecationWarning: The class `HuggingFaceEmbeddings` was deprecated in LangChain 0.2.2 and will be removed in 0.3.0. An updated version of the class exists in the langchain-huggingface package and should be used instead. To use it run `pip install -U langchain-huggingface` and import as `from langchain_huggingface import HuggingFaceEmbeddings`.\n",
      "  warn_deprecated(\n",
      "c:\\Users\\juand\\anaconda3\\Lib\\site-packages\\sentence_transformers\\cross_encoder\\CrossEncoder.py:11: TqdmExperimentalWarning: Using `tqdm.autonotebook.tqdm` in notebook mode. Use `tqdm.tqdm` instead to force console mode (e.g. in jupyter console)\n",
      "  from tqdm.autonotebook import tqdm, trange\n",
      "c:\\Users\\juand\\anaconda3\\Lib\\site-packages\\transformers\\utils\\generic.py:482: UserWarning: torch.utils._pytree._register_pytree_node is deprecated. Please use torch.utils._pytree.register_pytree_node instead.\n",
      "  _torch_pytree._register_pytree_node(\n",
      "c:\\Users\\juand\\anaconda3\\Lib\\site-packages\\transformers\\utils\\generic.py:339: UserWarning: torch.utils._pytree._register_pytree_node is deprecated. Please use torch.utils._pytree.register_pytree_node instead.\n",
      "  _torch_pytree._register_pytree_node(\n"
     ]
    }
   ],
   "source": [
    "embedding_function = SentenceTransformerEmbeddings(model_name='all-mpnet-base-v2')"
   ]
  },
  {
   "cell_type": "markdown",
   "metadata": {},
   "source": [
    "### organized text "
   ]
  },
  {
   "cell_type": "code",
   "execution_count": 28,
   "metadata": {},
   "outputs": [],
   "source": [
    "df = pd.merge(\n",
    "            df,\n",
    "            df_image.groupby('prod_id')['base64'].apply(list).reset_index(),\n",
    "            on='prod_id'\n",
    "        )"
   ]
  },
  {
   "cell_type": "code",
   "execution_count": 29,
   "metadata": {},
   "outputs": [
    {
     "data": {
      "text/html": [
       "<div>\n",
       "<style scoped>\n",
       "    .dataframe tbody tr th:only-of-type {\n",
       "        vertical-align: middle;\n",
       "    }\n",
       "\n",
       "    .dataframe tbody tr th {\n",
       "        vertical-align: top;\n",
       "    }\n",
       "\n",
       "    .dataframe thead th {\n",
       "        text-align: right;\n",
       "    }\n",
       "</style>\n",
       "<table border=\"1\" class=\"dataframe\">\n",
       "  <thead>\n",
       "    <tr style=\"text-align: right;\">\n",
       "      <th></th>\n",
       "      <th>Id</th>\n",
       "      <th>prod_id</th>\n",
       "      <th>descripcion</th>\n",
       "      <th>Summary</th>\n",
       "      <th>Brand</th>\n",
       "      <th>Complete_description</th>\n",
       "      <th>base64</th>\n",
       "    </tr>\n",
       "  </thead>\n",
       "  <tbody>\n",
       "    <tr>\n",
       "      <th>0</th>\n",
       "      <td>1</td>\n",
       "      <td>1</td>\n",
       "      <td>Type: Shirt   / Fit: Regular fit   / Sleeve s...</td>\n",
       "      <td>The Gucci shirt showcased in the images is a s...</td>\n",
       "      <td>Gucci</td>\n",
       "      <td>The Gucci shirt showcased in the images is a s...</td>\n",
       "      <td>[data:image/jpeg;base64, /9j/4AAQSkZJRgABAQAAA...</td>\n",
       "    </tr>\n",
       "    <tr>\n",
       "      <th>1</th>\n",
       "      <td>2</td>\n",
       "      <td>2</td>\n",
       "      <td>Type: Shirt   / Fit: Regular fit   / Sleeve s...</td>\n",
       "      <td>The showcased shirt is a Gucci Oxford cotton s...</td>\n",
       "      <td>Gucci</td>\n",
       "      <td>The showcased shirt is a Gucci Oxford cotton s...</td>\n",
       "      <td>[data:image/jpeg;base64, /9j/4AAQSkZJRgABAQAAA...</td>\n",
       "    </tr>\n",
       "    <tr>\n",
       "      <th>2</th>\n",
       "      <td>3</td>\n",
       "      <td>3</td>\n",
       "      <td>Type: Top   / Fit: Regular fit   / Sleeve sty...</td>\n",
       "      <td>The top showcased in the images is a short sil...</td>\n",
       "      <td>Gucci</td>\n",
       "      <td>The top showcased in the images is a short sil...</td>\n",
       "      <td>[data:image/jpeg;base64, /9j/4AAQSkZJRgABAQAAA...</td>\n",
       "    </tr>\n",
       "    <tr>\n",
       "      <th>3</th>\n",
       "      <td>4</td>\n",
       "      <td>4</td>\n",
       "      <td>Type: Shirt   / Fit: Regular fit   / Sleeve s...</td>\n",
       "      <td>The shirt from Gucci, as shown in the images, ...</td>\n",
       "      <td>Gucci</td>\n",
       "      <td>The shirt from Gucci, as shown in the images, ...</td>\n",
       "      <td>[data:image/jpeg;base64, /9j/4AAQSkZJRgABAQAAA...</td>\n",
       "    </tr>\n",
       "    <tr>\n",
       "      <th>4</th>\n",
       "      <td>5</td>\n",
       "      <td>5</td>\n",
       "      <td>Type: Shirt   / Fit: Regular fit   / Sleeve s...</td>\n",
       "      <td>The images showcase a Gucci shirt, designed wi...</td>\n",
       "      <td>Gucci</td>\n",
       "      <td>The images showcase a Gucci shirt, designed wi...</td>\n",
       "      <td>[data:image/jpeg;base64, /9j/4AAQSkZJRgABAQAAA...</td>\n",
       "    </tr>\n",
       "  </tbody>\n",
       "</table>\n",
       "</div>"
      ],
      "text/plain": [
       "   Id prod_id                                        descripcion  \\\n",
       "0   1       1   Type: Shirt   / Fit: Regular fit   / Sleeve s...   \n",
       "1   2       2   Type: Shirt   / Fit: Regular fit   / Sleeve s...   \n",
       "2   3       3   Type: Top   / Fit: Regular fit   / Sleeve sty...   \n",
       "3   4       4   Type: Shirt   / Fit: Regular fit   / Sleeve s...   \n",
       "4   5       5   Type: Shirt   / Fit: Regular fit   / Sleeve s...   \n",
       "\n",
       "                                             Summary  Brand  \\\n",
       "0  The Gucci shirt showcased in the images is a s...  Gucci   \n",
       "1  The showcased shirt is a Gucci Oxford cotton s...  Gucci   \n",
       "2  The top showcased in the images is a short sil...  Gucci   \n",
       "3  The shirt from Gucci, as shown in the images, ...  Gucci   \n",
       "4  The images showcase a Gucci shirt, designed wi...  Gucci   \n",
       "\n",
       "                                Complete_description  \\\n",
       "0  The Gucci shirt showcased in the images is a s...   \n",
       "1  The showcased shirt is a Gucci Oxford cotton s...   \n",
       "2  The top showcased in the images is a short sil...   \n",
       "3  The shirt from Gucci, as shown in the images, ...   \n",
       "4  The images showcase a Gucci shirt, designed wi...   \n",
       "\n",
       "                                              base64  \n",
       "0  [data:image/jpeg;base64, /9j/4AAQSkZJRgABAQAAA...  \n",
       "1  [data:image/jpeg;base64, /9j/4AAQSkZJRgABAQAAA...  \n",
       "2  [data:image/jpeg;base64, /9j/4AAQSkZJRgABAQAAA...  \n",
       "3  [data:image/jpeg;base64, /9j/4AAQSkZJRgABAQAAA...  \n",
       "4  [data:image/jpeg;base64, /9j/4AAQSkZJRgABAQAAA...  "
      ]
     },
     "execution_count": 29,
     "metadata": {},
     "output_type": "execute_result"
    }
   ],
   "source": [
    "df.prod_id = df.prod_id.astype(int)\n",
    "df.sort_values('prod_id',ascending=True,inplace=True)\n",
    "df.reset_index(drop=True, inplace= True)\n",
    "df.prod_id = df.prod_id.astype('string')\n",
    "df.head(5)"
   ]
  },
  {
   "cell_type": "markdown",
   "metadata": {},
   "source": [
    "### chunks"
   ]
  },
  {
   "cell_type": "code",
   "execution_count": 30,
   "metadata": {},
   "outputs": [],
   "source": [
    "df = df[['prod_id', 'Summary','descripcion','Brand','base64']]#.append(df[['prod_id','Summary', 'descripcion','Brand','base64']])"
   ]
  },
  {
   "cell_type": "code",
   "execution_count": 32,
   "metadata": {},
   "outputs": [
    {
     "data": {
      "text/html": [
       "<div>\n",
       "<style scoped>\n",
       "    .dataframe tbody tr th:only-of-type {\n",
       "        vertical-align: middle;\n",
       "    }\n",
       "\n",
       "    .dataframe tbody tr th {\n",
       "        vertical-align: top;\n",
       "    }\n",
       "\n",
       "    .dataframe thead th {\n",
       "        text-align: right;\n",
       "    }\n",
       "</style>\n",
       "<table border=\"1\" class=\"dataframe\">\n",
       "  <thead>\n",
       "    <tr style=\"text-align: right;\">\n",
       "      <th></th>\n",
       "      <th>prod_id</th>\n",
       "      <th>Summary</th>\n",
       "      <th>descripcion</th>\n",
       "      <th>Brand</th>\n",
       "      <th>base64</th>\n",
       "    </tr>\n",
       "  </thead>\n",
       "  <tbody>\n",
       "    <tr>\n",
       "      <th>0</th>\n",
       "      <td>1</td>\n",
       "      <td>The Gucci shirt showcased in the images is a s...</td>\n",
       "      <td>Type: Shirt   / Fit: Regular fit   / Sleeve s...</td>\n",
       "      <td>Gucci</td>\n",
       "      <td>[data:image/jpeg;base64, /9j/4AAQSkZJRgABAQAAA...</td>\n",
       "    </tr>\n",
       "    <tr>\n",
       "      <th>1</th>\n",
       "      <td>2</td>\n",
       "      <td>The showcased shirt is a Gucci Oxford cotton s...</td>\n",
       "      <td>Type: Shirt   / Fit: Regular fit   / Sleeve s...</td>\n",
       "      <td>Gucci</td>\n",
       "      <td>[data:image/jpeg;base64, /9j/4AAQSkZJRgABAQAAA...</td>\n",
       "    </tr>\n",
       "    <tr>\n",
       "      <th>2</th>\n",
       "      <td>3</td>\n",
       "      <td>The top showcased in the images is a short sil...</td>\n",
       "      <td>Type: Top   / Fit: Regular fit   / Sleeve sty...</td>\n",
       "      <td>Gucci</td>\n",
       "      <td>[data:image/jpeg;base64, /9j/4AAQSkZJRgABAQAAA...</td>\n",
       "    </tr>\n",
       "    <tr>\n",
       "      <th>3</th>\n",
       "      <td>4</td>\n",
       "      <td>The shirt from Gucci, as shown in the images, ...</td>\n",
       "      <td>Type: Shirt   / Fit: Regular fit   / Sleeve s...</td>\n",
       "      <td>Gucci</td>\n",
       "      <td>[data:image/jpeg;base64, /9j/4AAQSkZJRgABAQAAA...</td>\n",
       "    </tr>\n",
       "    <tr>\n",
       "      <th>4</th>\n",
       "      <td>5</td>\n",
       "      <td>The images showcase a Gucci shirt, designed wi...</td>\n",
       "      <td>Type: Shirt   / Fit: Regular fit   / Sleeve s...</td>\n",
       "      <td>Gucci</td>\n",
       "      <td>[data:image/jpeg;base64, /9j/4AAQSkZJRgABAQAAA...</td>\n",
       "    </tr>\n",
       "  </tbody>\n",
       "</table>\n",
       "</div>"
      ],
      "text/plain": [
       "  prod_id                                            Summary  \\\n",
       "0       1  The Gucci shirt showcased in the images is a s...   \n",
       "1       2  The showcased shirt is a Gucci Oxford cotton s...   \n",
       "2       3  The top showcased in the images is a short sil...   \n",
       "3       4  The shirt from Gucci, as shown in the images, ...   \n",
       "4       5  The images showcase a Gucci shirt, designed wi...   \n",
       "\n",
       "                                         descripcion  Brand  \\\n",
       "0   Type: Shirt   / Fit: Regular fit   / Sleeve s...  Gucci   \n",
       "1   Type: Shirt   / Fit: Regular fit   / Sleeve s...  Gucci   \n",
       "2   Type: Top   / Fit: Regular fit   / Sleeve sty...  Gucci   \n",
       "3   Type: Shirt   / Fit: Regular fit   / Sleeve s...  Gucci   \n",
       "4   Type: Shirt   / Fit: Regular fit   / Sleeve s...  Gucci   \n",
       "\n",
       "                                              base64  \n",
       "0  [data:image/jpeg;base64, /9j/4AAQSkZJRgABAQAAA...  \n",
       "1  [data:image/jpeg;base64, /9j/4AAQSkZJRgABAQAAA...  \n",
       "2  [data:image/jpeg;base64, /9j/4AAQSkZJRgABAQAAA...  \n",
       "3  [data:image/jpeg;base64, /9j/4AAQSkZJRgABAQAAA...  \n",
       "4  [data:image/jpeg;base64, /9j/4AAQSkZJRgABAQAAA...  "
      ]
     },
     "execution_count": 32,
     "metadata": {},
     "output_type": "execute_result"
    }
   ],
   "source": [
    "df.head()"
   ]
  },
  {
   "cell_type": "code",
   "execution_count": 33,
   "metadata": {},
   "outputs": [
    {
     "data": {
      "text/plain": [
       "array(['Gucci', 'HM', 'Prada', 'Mango'], dtype=object)"
      ]
     },
     "execution_count": 33,
     "metadata": {},
     "output_type": "execute_result"
    }
   ],
   "source": [
    "df.Brand.unique()"
   ]
  },
  {
   "cell_type": "code",
   "execution_count": 34,
   "metadata": {},
   "outputs": [],
   "source": [
    "df['Type'] = df['Brand'].apply(lambda x: 'Luxury' if (x == 'Gucci') or (x == 'Prada') else 'Retail')"
   ]
  },
  {
   "cell_type": "code",
   "execution_count": 35,
   "metadata": {},
   "outputs": [
    {
     "data": {
      "text/html": [
       "<div>\n",
       "<style scoped>\n",
       "    .dataframe tbody tr th:only-of-type {\n",
       "        vertical-align: middle;\n",
       "    }\n",
       "\n",
       "    .dataframe tbody tr th {\n",
       "        vertical-align: top;\n",
       "    }\n",
       "\n",
       "    .dataframe thead th {\n",
       "        text-align: right;\n",
       "    }\n",
       "</style>\n",
       "<table border=\"1\" class=\"dataframe\">\n",
       "  <thead>\n",
       "    <tr style=\"text-align: right;\">\n",
       "      <th></th>\n",
       "      <th>prod_id</th>\n",
       "      <th>Summary</th>\n",
       "      <th>descripcion</th>\n",
       "      <th>Brand</th>\n",
       "      <th>base64</th>\n",
       "      <th>Type</th>\n",
       "    </tr>\n",
       "  </thead>\n",
       "  <tbody>\n",
       "    <tr>\n",
       "      <th>0</th>\n",
       "      <td>1</td>\n",
       "      <td>The Gucci shirt showcased in the images is a s...</td>\n",
       "      <td>Type: Shirt   / Fit: Regular fit   / Sleeve s...</td>\n",
       "      <td>Gucci</td>\n",
       "      <td>[data:image/jpeg;base64, /9j/4AAQSkZJRgABAQAAA...</td>\n",
       "      <td>Luxury</td>\n",
       "    </tr>\n",
       "    <tr>\n",
       "      <th>1</th>\n",
       "      <td>2</td>\n",
       "      <td>The showcased shirt is a Gucci Oxford cotton s...</td>\n",
       "      <td>Type: Shirt   / Fit: Regular fit   / Sleeve s...</td>\n",
       "      <td>Gucci</td>\n",
       "      <td>[data:image/jpeg;base64, /9j/4AAQSkZJRgABAQAAA...</td>\n",
       "      <td>Luxury</td>\n",
       "    </tr>\n",
       "    <tr>\n",
       "      <th>2</th>\n",
       "      <td>3</td>\n",
       "      <td>The top showcased in the images is a short sil...</td>\n",
       "      <td>Type: Top   / Fit: Regular fit   / Sleeve sty...</td>\n",
       "      <td>Gucci</td>\n",
       "      <td>[data:image/jpeg;base64, /9j/4AAQSkZJRgABAQAAA...</td>\n",
       "      <td>Luxury</td>\n",
       "    </tr>\n",
       "    <tr>\n",
       "      <th>3</th>\n",
       "      <td>4</td>\n",
       "      <td>The shirt from Gucci, as shown in the images, ...</td>\n",
       "      <td>Type: Shirt   / Fit: Regular fit   / Sleeve s...</td>\n",
       "      <td>Gucci</td>\n",
       "      <td>[data:image/jpeg;base64, /9j/4AAQSkZJRgABAQAAA...</td>\n",
       "      <td>Luxury</td>\n",
       "    </tr>\n",
       "    <tr>\n",
       "      <th>4</th>\n",
       "      <td>5</td>\n",
       "      <td>The images showcase a Gucci shirt, designed wi...</td>\n",
       "      <td>Type: Shirt   / Fit: Regular fit   / Sleeve s...</td>\n",
       "      <td>Gucci</td>\n",
       "      <td>[data:image/jpeg;base64, /9j/4AAQSkZJRgABAQAAA...</td>\n",
       "      <td>Luxury</td>\n",
       "    </tr>\n",
       "  </tbody>\n",
       "</table>\n",
       "</div>"
      ],
      "text/plain": [
       "  prod_id                                            Summary  \\\n",
       "0       1  The Gucci shirt showcased in the images is a s...   \n",
       "1       2  The showcased shirt is a Gucci Oxford cotton s...   \n",
       "2       3  The top showcased in the images is a short sil...   \n",
       "3       4  The shirt from Gucci, as shown in the images, ...   \n",
       "4       5  The images showcase a Gucci shirt, designed wi...   \n",
       "\n",
       "                                         descripcion  Brand  \\\n",
       "0   Type: Shirt   / Fit: Regular fit   / Sleeve s...  Gucci   \n",
       "1   Type: Shirt   / Fit: Regular fit   / Sleeve s...  Gucci   \n",
       "2   Type: Top   / Fit: Regular fit   / Sleeve sty...  Gucci   \n",
       "3   Type: Shirt   / Fit: Regular fit   / Sleeve s...  Gucci   \n",
       "4   Type: Shirt   / Fit: Regular fit   / Sleeve s...  Gucci   \n",
       "\n",
       "                                              base64    Type  \n",
       "0  [data:image/jpeg;base64, /9j/4AAQSkZJRgABAQAAA...  Luxury  \n",
       "1  [data:image/jpeg;base64, /9j/4AAQSkZJRgABAQAAA...  Luxury  \n",
       "2  [data:image/jpeg;base64, /9j/4AAQSkZJRgABAQAAA...  Luxury  \n",
       "3  [data:image/jpeg;base64, /9j/4AAQSkZJRgABAQAAA...  Luxury  \n",
       "4  [data:image/jpeg;base64, /9j/4AAQSkZJRgABAQAAA...  Luxury  "
      ]
     },
     "execution_count": 35,
     "metadata": {},
     "output_type": "execute_result"
    }
   ],
   "source": [
    "df.head()"
   ]
  },
  {
   "cell_type": "code",
   "execution_count": 36,
   "metadata": {},
   "outputs": [],
   "source": [
    "persist_directory = '../../../Chromadb/chroma-retail'"
   ]
  },
  {
   "cell_type": "code",
   "execution_count": 37,
   "metadata": {},
   "outputs": [],
   "source": [
    "store = InMemoryStore()\n",
    "id_key = 'doc_id'"
   ]
  },
  {
   "cell_type": "code",
   "execution_count": 38,
   "metadata": {},
   "outputs": [
    {
     "data": {
      "text/plain": [
       "1"
      ]
     },
     "execution_count": 38,
     "metadata": {},
     "output_type": "execute_result"
    }
   ],
   "source": [
    "min(df['base64'].apply(lambda x: len(x)))"
   ]
  },
  {
   "cell_type": "code",
   "execution_count": 39,
   "metadata": {},
   "outputs": [
    {
     "data": {
      "text/html": [
       "<div>\n",
       "<style scoped>\n",
       "    .dataframe tbody tr th:only-of-type {\n",
       "        vertical-align: middle;\n",
       "    }\n",
       "\n",
       "    .dataframe tbody tr th {\n",
       "        vertical-align: top;\n",
       "    }\n",
       "\n",
       "    .dataframe thead th {\n",
       "        text-align: right;\n",
       "    }\n",
       "</style>\n",
       "<table border=\"1\" class=\"dataframe\">\n",
       "  <thead>\n",
       "    <tr style=\"text-align: right;\">\n",
       "      <th></th>\n",
       "      <th>prod_id</th>\n",
       "      <th>Summary</th>\n",
       "      <th>descripcion</th>\n",
       "      <th>Brand</th>\n",
       "      <th>base64</th>\n",
       "      <th>Type</th>\n",
       "    </tr>\n",
       "  </thead>\n",
       "  <tbody>\n",
       "    <tr>\n",
       "      <th>130</th>\n",
       "      <td>131</td>\n",
       "      <td>The top showcased in the images is a fluid fab...</td>\n",
       "      <td>Type: Top, Shirt   / Fit: Regular fit   / Sle...</td>\n",
       "      <td>Mango</td>\n",
       "      <td>[data:image/jpeg;base64, /9j/4AAQSkZJRgABAQAAA...</td>\n",
       "      <td>Retail</td>\n",
       "    </tr>\n",
       "  </tbody>\n",
       "</table>\n",
       "</div>"
      ],
      "text/plain": [
       "    prod_id                                            Summary  \\\n",
       "130     131  The top showcased in the images is a fluid fab...   \n",
       "\n",
       "                                           descripcion  Brand  \\\n",
       "130   Type: Top, Shirt   / Fit: Regular fit   / Sle...  Mango   \n",
       "\n",
       "                                                base64    Type  \n",
       "130  [data:image/jpeg;base64, /9j/4AAQSkZJRgABAQAAA...  Retail  "
      ]
     },
     "execution_count": 39,
     "metadata": {},
     "output_type": "execute_result"
    }
   ],
   "source": [
    "df[ df['base64'].apply(lambda x: len(x)) == 1 ]"
   ]
  },
  {
   "cell_type": "code",
   "execution_count": 40,
   "metadata": {},
   "outputs": [],
   "source": [
    "doc_ids = df.prod_id\n",
    "\n",
    "\n",
    "descripcions = [\n",
    "    Document(\n",
    "        page_content= df.iloc[i].descripcion, \n",
    "        metadata={\n",
    "            id_key:df.iloc[i].prod_id,\n",
    "            'Type': df.iloc[i].Type\n",
    "            }\n",
    "    )\n",
    "    for i in df.index\n",
    "]\n"
   ]
  },
  {
   "cell_type": "code",
   "execution_count": 41,
   "metadata": {},
   "outputs": [
    {
     "data": {
      "text/html": [
       "<div>\n",
       "<style scoped>\n",
       "    .dataframe tbody tr th:only-of-type {\n",
       "        vertical-align: middle;\n",
       "    }\n",
       "\n",
       "    .dataframe tbody tr th {\n",
       "        vertical-align: top;\n",
       "    }\n",
       "\n",
       "    .dataframe thead th {\n",
       "        text-align: right;\n",
       "    }\n",
       "</style>\n",
       "<table border=\"1\" class=\"dataframe\">\n",
       "  <thead>\n",
       "    <tr style=\"text-align: right;\">\n",
       "      <th></th>\n",
       "      <th>prod_id</th>\n",
       "      <th>Summary</th>\n",
       "      <th>descripcion</th>\n",
       "      <th>Brand</th>\n",
       "      <th>base64</th>\n",
       "      <th>Type</th>\n",
       "    </tr>\n",
       "  </thead>\n",
       "  <tbody>\n",
       "    <tr>\n",
       "      <th>0</th>\n",
       "      <td>1</td>\n",
       "      <td>The Gucci shirt showcased in the images is a s...</td>\n",
       "      <td>Type: Shirt   / Fit: Regular fit   / Sleeve s...</td>\n",
       "      <td>Gucci</td>\n",
       "      <td>[data:image/jpeg;base64, /9j/4AAQSkZJRgABAQAAA...</td>\n",
       "      <td>Luxury</td>\n",
       "    </tr>\n",
       "    <tr>\n",
       "      <th>1</th>\n",
       "      <td>2</td>\n",
       "      <td>The showcased shirt is a Gucci Oxford cotton s...</td>\n",
       "      <td>Type: Shirt   / Fit: Regular fit   / Sleeve s...</td>\n",
       "      <td>Gucci</td>\n",
       "      <td>[data:image/jpeg;base64, /9j/4AAQSkZJRgABAQAAA...</td>\n",
       "      <td>Luxury</td>\n",
       "    </tr>\n",
       "    <tr>\n",
       "      <th>2</th>\n",
       "      <td>3</td>\n",
       "      <td>The top showcased in the images is a short sil...</td>\n",
       "      <td>Type: Top   / Fit: Regular fit   / Sleeve sty...</td>\n",
       "      <td>Gucci</td>\n",
       "      <td>[data:image/jpeg;base64, /9j/4AAQSkZJRgABAQAAA...</td>\n",
       "      <td>Luxury</td>\n",
       "    </tr>\n",
       "    <tr>\n",
       "      <th>3</th>\n",
       "      <td>4</td>\n",
       "      <td>The shirt from Gucci, as shown in the images, ...</td>\n",
       "      <td>Type: Shirt   / Fit: Regular fit   / Sleeve s...</td>\n",
       "      <td>Gucci</td>\n",
       "      <td>[data:image/jpeg;base64, /9j/4AAQSkZJRgABAQAAA...</td>\n",
       "      <td>Luxury</td>\n",
       "    </tr>\n",
       "    <tr>\n",
       "      <th>4</th>\n",
       "      <td>5</td>\n",
       "      <td>The images showcase a Gucci shirt, designed wi...</td>\n",
       "      <td>Type: Shirt   / Fit: Regular fit   / Sleeve s...</td>\n",
       "      <td>Gucci</td>\n",
       "      <td>[data:image/jpeg;base64, /9j/4AAQSkZJRgABAQAAA...</td>\n",
       "      <td>Luxury</td>\n",
       "    </tr>\n",
       "  </tbody>\n",
       "</table>\n",
       "</div>"
      ],
      "text/plain": [
       "  prod_id                                            Summary  \\\n",
       "0       1  The Gucci shirt showcased in the images is a s...   \n",
       "1       2  The showcased shirt is a Gucci Oxford cotton s...   \n",
       "2       3  The top showcased in the images is a short sil...   \n",
       "3       4  The shirt from Gucci, as shown in the images, ...   \n",
       "4       5  The images showcase a Gucci shirt, designed wi...   \n",
       "\n",
       "                                         descripcion  Brand  \\\n",
       "0   Type: Shirt   / Fit: Regular fit   / Sleeve s...  Gucci   \n",
       "1   Type: Shirt   / Fit: Regular fit   / Sleeve s...  Gucci   \n",
       "2   Type: Top   / Fit: Regular fit   / Sleeve sty...  Gucci   \n",
       "3   Type: Shirt   / Fit: Regular fit   / Sleeve s...  Gucci   \n",
       "4   Type: Shirt   / Fit: Regular fit   / Sleeve s...  Gucci   \n",
       "\n",
       "                                              base64    Type  \n",
       "0  [data:image/jpeg;base64, /9j/4AAQSkZJRgABAQAAA...  Luxury  \n",
       "1  [data:image/jpeg;base64, /9j/4AAQSkZJRgABAQAAA...  Luxury  \n",
       "2  [data:image/jpeg;base64, /9j/4AAQSkZJRgABAQAAA...  Luxury  \n",
       "3  [data:image/jpeg;base64, /9j/4AAQSkZJRgABAQAAA...  Luxury  \n",
       "4  [data:image/jpeg;base64, /9j/4AAQSkZJRgABAQAAA...  Luxury  "
      ]
     },
     "execution_count": 41,
     "metadata": {},
     "output_type": "execute_result"
    }
   ],
   "source": [
    "df.head()"
   ]
  },
  {
   "cell_type": "code",
   "execution_count": 42,
   "metadata": {},
   "outputs": [],
   "source": [
    "final_df = pd.DataFrame()\n",
    "\n",
    "for index, parent_row in df.iterrows(): \n",
    "    x = []\n",
    "    for row in parent_row.descripcion.split('/'):\n",
    "        x.append(row.split(':'))\n",
    "\n",
    "    temp_dataframe = pd.DataFrame(x)\n",
    "    temp_dataframe[0] = temp_dataframe[0].str.lower()\n",
    "    temp_dataframe = temp_dataframe.sort_values(by=0)\n",
    "    temp_dataframe = temp_dataframe.groupby(0)[1].apply(lambda x: ', '.join(x)).reset_index()\n",
    "    temp_dataframe['prod_id'] = parent_row.prod_id\n",
    "    temp_dataframe['type'] = parent_row.Type\n",
    "    \n",
    "        \n",
    "    #temp_dataframe = temp_dataframe.set_index(0).T\n",
    "    #temp_dataframe.columns = temp_dataframe.columns.str.lstrip()\n",
    "    \n",
    "    final_df = pd.concat([final_df,temp_dataframe], axis=0)\n"
   ]
  },
  {
   "cell_type": "code",
   "execution_count": 43,
   "metadata": {},
   "outputs": [
    {
     "data": {
      "text/html": [
       "<div>\n",
       "<style scoped>\n",
       "    .dataframe tbody tr th:only-of-type {\n",
       "        vertical-align: middle;\n",
       "    }\n",
       "\n",
       "    .dataframe tbody tr th {\n",
       "        vertical-align: top;\n",
       "    }\n",
       "\n",
       "    .dataframe thead th {\n",
       "        text-align: right;\n",
       "    }\n",
       "</style>\n",
       "<table border=\"1\" class=\"dataframe\">\n",
       "  <thead>\n",
       "    <tr style=\"text-align: right;\">\n",
       "      <th></th>\n",
       "      <th>0</th>\n",
       "      <th>1</th>\n",
       "      <th>prod_id</th>\n",
       "      <th>type</th>\n",
       "    </tr>\n",
       "  </thead>\n",
       "  <tbody>\n",
       "    <tr>\n",
       "      <th>0</th>\n",
       "      <td>breathability</td>\n",
       "      <td>High</td>\n",
       "      <td>1</td>\n",
       "      <td>Luxury</td>\n",
       "    </tr>\n",
       "    <tr>\n",
       "      <th>1</th>\n",
       "      <td>collar style</td>\n",
       "      <td>Button-down</td>\n",
       "      <td>1</td>\n",
       "      <td>Luxury</td>\n",
       "    </tr>\n",
       "    <tr>\n",
       "      <th>2</th>\n",
       "      <td>colors</td>\n",
       "      <td>Light pink (100%)</td>\n",
       "      <td>1</td>\n",
       "      <td>Luxury</td>\n",
       "    </tr>\n",
       "    <tr>\n",
       "      <th>3</th>\n",
       "      <td>details and embellishments</td>\n",
       "      <td>Buttons</td>\n",
       "      <td>1</td>\n",
       "      <td>Luxury</td>\n",
       "    </tr>\n",
       "    <tr>\n",
       "      <th>4</th>\n",
       "      <td>fabric weight</td>\n",
       "      <td>Light</td>\n",
       "      <td>1</td>\n",
       "      <td>Luxury</td>\n",
       "    </tr>\n",
       "    <tr>\n",
       "      <th>...</th>\n",
       "      <td>...</td>\n",
       "      <td>...</td>\n",
       "      <td>...</td>\n",
       "      <td>...</td>\n",
       "    </tr>\n",
       "    <tr>\n",
       "      <th>19</th>\n",
       "      <td>shape</td>\n",
       "      <td>Fitted</td>\n",
       "      <td>154</td>\n",
       "      <td>Retail</td>\n",
       "    </tr>\n",
       "    <tr>\n",
       "      <th>20</th>\n",
       "      <td>sleeve style</td>\n",
       "      <td>Long sleeve</td>\n",
       "      <td>154</td>\n",
       "      <td>Retail</td>\n",
       "    </tr>\n",
       "    <tr>\n",
       "      <th>21</th>\n",
       "      <td>texture</td>\n",
       "      <td>Smooth</td>\n",
       "      <td>154</td>\n",
       "      <td>Retail</td>\n",
       "    </tr>\n",
       "    <tr>\n",
       "      <th>22</th>\n",
       "      <td>transparency</td>\n",
       "      <td>Semi-transparent</td>\n",
       "      <td>154</td>\n",
       "      <td>Retail</td>\n",
       "    </tr>\n",
       "    <tr>\n",
       "      <th>23</th>\n",
       "      <td>type</td>\n",
       "      <td>Top - Shirt</td>\n",
       "      <td>154</td>\n",
       "      <td>Retail</td>\n",
       "    </tr>\n",
       "  </tbody>\n",
       "</table>\n",
       "<p>3558 rows × 4 columns</p>\n",
       "</div>"
      ],
      "text/plain": [
       "                              0                      1 prod_id    type\n",
       "0                 breathability                High          1  Luxury\n",
       "1                  collar style         Button-down          1  Luxury\n",
       "2                        colors   Light pink (100%)          1  Luxury\n",
       "3    details and embellishments             Buttons          1  Luxury\n",
       "4                 fabric weight               Light          1  Luxury\n",
       "..                          ...                    ...     ...     ...\n",
       "19                        shape              Fitted        154  Retail\n",
       "20                 sleeve style         Long sleeve        154  Retail\n",
       "21                      texture              Smooth        154  Retail\n",
       "22                 transparency    Semi-transparent        154  Retail\n",
       "23                         type         Top - Shirt        154  Retail\n",
       "\n",
       "[3558 rows x 4 columns]"
      ]
     },
     "execution_count": 43,
     "metadata": {},
     "output_type": "execute_result"
    }
   ],
   "source": [
    "final_df"
   ]
  },
  {
   "cell_type": "code",
   "execution_count": 44,
   "metadata": {},
   "outputs": [],
   "source": [
    "from langchain_text_splitters import RecursiveCharacterTextSplitter\n",
    "child_splitter = RecursiveCharacterTextSplitter(chunk_size=300, chunk_overlap=70,)"
   ]
  },
  {
   "cell_type": "code",
   "execution_count": 45,
   "metadata": {},
   "outputs": [],
   "source": [
    "doc_ids = final_df.prod_id\n",
    "\n",
    "\n",
    "descripcions = [\n",
    "    Document(\n",
    "        page_content= final_df.iloc[i][1], \n",
    "        metadata={\n",
    "            id_key:final_df.iloc[i].prod_id,\n",
    "            'Type': final_df.iloc[i].type,\n",
    "            'category': final_df.iloc[i][0]         \n",
    "            }\n",
    "    )\n",
    "    for i in final_df.index\n",
    "]\n"
   ]
  },
  {
   "cell_type": "code",
   "execution_count": 46,
   "metadata": {},
   "outputs": [],
   "source": [
    "doc_ids = df.prod_id\n",
    "\n",
    "\n",
    "texts = [\n",
    "    Document(\n",
    "        page_content= df.iloc[i].Summary, \n",
    "        metadata={\n",
    "            id_key:df.iloc[i].prod_id,\n",
    "            'Type': df.iloc[i].Type\n",
    "            }\n",
    "    )\n",
    "    for i in df.index\n",
    "]\n"
   ]
  },
  {
   "cell_type": "code",
   "execution_count": 47,
   "metadata": {},
   "outputs": [
    {
     "data": {
      "text/plain": [
       "\"The showcased shirt is a Gucci Oxford cotton shirt with a GG Shadow monogram. It has a slim fit, ideal for a tailored look, and is crafted from high-quality Oxford cotton, making it suitable for both formal and semi-formal occasions. The shirt is primarily in a light blue color, which gives it a classic, versatile appeal. The material appears to be medium-weight, offering a balance between structure and breathability, making it suitable for year-round wear. The fabric has a smooth texture with no visible transparency, ensuring it maintains a polished appearance. The shirt features a standard collar style and a button-down front, providing a traditional yet sophisticated look. The long sleeves end in buttoned cuffs, adding to its formal appeal. The GG Shadow monogram pattern is subtly placed all over the shirt, adding a touch of luxury without overwhelming the design. There are no visible pockets, lapels, or additional embellishments, keeping the design clean and elegant. The shirt's length is standard, hitting just below the waist, which is suitable for tucking in or wearing out. Overall, this shirt is ideal for business meetings, formal events, or upscale casual outings.\""
      ]
     },
     "execution_count": 47,
     "metadata": {},
     "output_type": "execute_result"
    }
   ],
   "source": [
    "texts[1].page_content"
   ]
  },
  {
   "cell_type": "code",
   "execution_count": 48,
   "metadata": {},
   "outputs": [],
   "source": [
    "text_child = []\n",
    "\n",
    "for i in df.index:\n",
    "\n",
    "    child_docs=child_splitter.create_documents(\n",
    "            [texts[i].page_content],\n",
    "            metadatas= \n",
    "                [{\n",
    "                    'doc_id':texts[i].metadata['doc_id'],\n",
    "                    'Type': df.iloc[i].Type\n",
    "                }]\n",
    "        )\n",
    "    \n",
    "    for _doc in child_docs:\n",
    "        text_child.append(_doc)\n",
    "    "
   ]
  },
  {
   "cell_type": "code",
   "execution_count": 49,
   "metadata": {},
   "outputs": [],
   "source": [
    "vectorstore = Chroma.from_documents(\n",
    "                documents=text_child,\n",
    "                #ids=doc_ids,\n",
    "                embedding=embedding_function,\n",
    "                collection_name='RAG-Child',\n",
    "                #metadatas=metadata,\n",
    "                persist_directory=persist_directory\n",
    "            )"
   ]
  },
  {
   "cell_type": "code",
   "execution_count": 50,
   "metadata": {},
   "outputs": [
    {
     "data": {
      "text/plain": [
       "[(Document(page_content='blend of luxury and practicality, suitable for both professional and upscale casual settings.', metadata={'Type': 'Luxury', 'doc_id': '21'}),\n",
       "  0.966240406036377),\n",
       " (Document(page_content='wear. The overall design is elegant yet relaxed, perfect for upscale beach outings or casual summer gatherings.', metadata={'Type': 'Luxury', 'doc_id': '3'}),\n",
       "  1.200760841369629),\n",
       " (Document(page_content='for both professional settings and upscale social events, suitable for all seasons due to its breathable silk material.', metadata={'Type': 'Luxury', 'doc_id': '1'}),\n",
       "  1.2270276546478271),\n",
       " (Document(page_content='wear to evening outings, thanks to its versatile design and luxurious fabric.', metadata={'Type': 'Retail', 'doc_id': '122'}),\n",
       "  1.246087670326233)]"
      ]
     },
     "execution_count": 50,
     "metadata": {},
     "output_type": "execute_result"
    }
   ],
   "source": [
    "vectorstore.similarity_search_with_score('Luxury')"
   ]
  },
  {
   "cell_type": "code",
   "execution_count": 51,
   "metadata": {},
   "outputs": [],
   "source": [
    "vectorstore = Chroma.from_documents(\n",
    "                documents=descripcions,\n",
    "                #ids=doc_ids,\n",
    "                embedding=embedding_function,\n",
    "                collection_name='RAG-Child-Details',\n",
    "                #metadatas=metadata,\n",
    "                persist_directory=persist_directory\n",
    "            )"
   ]
  },
  {
   "cell_type": "markdown",
   "metadata": {},
   "source": [
    "### Already loaded !!!"
   ]
  },
  {
   "cell_type": "code",
   "execution_count": null,
   "metadata": {},
   "outputs": [],
   "source": [
    "retriever = MultiVectorRetriever(\n",
    "    vectorstore=vectorstore,\n",
    "    docstore=store,\n",
    "    id_key=id_key,\n",
    "    search_kwargs={\"k\":5}\n",
    ")"
   ]
  },
  {
   "cell_type": "code",
   "execution_count": null,
   "metadata": {},
   "outputs": [],
   "source": [
    "docs = retriever.invoke(\n",
    "    \"HM\"\n",
    ")"
   ]
  },
  {
   "cell_type": "code",
   "execution_count": null,
   "metadata": {},
   "outputs": [],
   "source": [
    "docs"
   ]
  },
  {
   "cell_type": "code",
   "execution_count": null,
   "metadata": {},
   "outputs": [],
   "source": [
    "retriever.vectorstore.add_documents(texts)\n",
    "#retriever.docstore.mset(list(zip(doc_ids, texts)))"
   ]
  },
  {
   "cell_type": "code",
   "execution_count": null,
   "metadata": {},
   "outputs": [],
   "source": [
    "docs = retriever.invoke(\n",
    "    \"HM\"\n",
    ")"
   ]
  },
  {
   "cell_type": "code",
   "execution_count": null,
   "metadata": {},
   "outputs": [],
   "source": [
    "docs"
   ]
  },
  {
   "cell_type": "code",
   "execution_count": null,
   "metadata": {},
   "outputs": [],
   "source": [
    "df.iloc[1].Complete_description"
   ]
  },
  {
   "cell_type": "markdown",
   "metadata": {},
   "source": [
    "### Talk to Chroma"
   ]
  },
  {
   "cell_type": "code",
   "execution_count": null,
   "metadata": {},
   "outputs": [],
   "source": [
    "from apikey import apikey \n",
    "from langchain.chat_models import ChatOpenAI"
   ]
  },
  {
   "cell_type": "code",
   "execution_count": null,
   "metadata": {},
   "outputs": [],
   "source": [
    "os.environ['OPENAI_API_KEY'] = apikey"
   ]
  },
  {
   "cell_type": "code",
   "execution_count": null,
   "metadata": {},
   "outputs": [],
   "source": [
    "turbo_llm = ChatOpenAI(\n",
    "    temperature=0,\n",
    "    model_name='gpt-3.5-turbo'\n",
    ")"
   ]
  },
  {
   "cell_type": "code",
   "execution_count": null,
   "metadata": {},
   "outputs": [],
   "source": [
    "from langchain_core.runnables import RunnablePassthrough\n",
    "from langchain_core.output_parsers import StrOutputParser\n",
    "\n",
    "### lets set up the system\n",
    "\n",
    "from langchain.chains import create_retrieval_chain\n",
    "from langchain.chains.combine_documents import create_stuff_documents_chain\n",
    "from langchain_core.prompts import ChatPromptTemplate"
   ]
  },
  {
   "cell_type": "code",
   "execution_count": null,
   "metadata": {},
   "outputs": [],
   "source": [
    "def format_docs(docs):\n",
    "    return \"\\n\\n\".join(doc.page_content for doc in docs)"
   ]
  },
  {
   "cell_type": "code",
   "execution_count": null,
   "metadata": {},
   "outputs": [],
   "source": [
    "system_prompt = (\n",
    "    \"You are a Fashion specialist engine to sugest clothing pieces from context. \"\n",
    "    \"If you don't know the answer to the question, say that you dont know \"\n",
    "    \"answer concise.\"\n",
    "    #\"Explain why the selected options of the context are the best ones\"\n",
    "    \"\\n\\n\"\n",
    "    \"{context}\"\n",
    ")"
   ]
  },
  {
   "cell_type": "code",
   "execution_count": null,
   "metadata": {},
   "outputs": [],
   "source": [
    "prompt = ChatPromptTemplate.from_messages(\n",
    "    [\n",
    "        (\"system\", system_prompt),\n",
    "        (\"human\", \"{input}\"),\n",
    "    ]\n",
    ")"
   ]
  },
  {
   "cell_type": "code",
   "execution_count": null,
   "metadata": {},
   "outputs": [],
   "source": [
    "rag_chain = (\n",
    "    {\"context\": retriever | format_docs, \"question\": RunnablePassthrough()}\n",
    "    | prompt\n",
    "    | turbo_llm\n",
    "    | StrOutputParser()\n",
    ")"
   ]
  },
  {
   "cell_type": "code",
   "execution_count": null,
   "metadata": {},
   "outputs": [],
   "source": [
    "question_answer_chain = create_stuff_documents_chain(turbo_llm, prompt)\n",
    "rag_chain = create_retrieval_chain(retriever, question_answer_chain)"
   ]
  },
  {
   "cell_type": "code",
   "execution_count": null,
   "metadata": {},
   "outputs": [],
   "source": [
    "query = \"Im looking for clothing peaces from Mango that could be similar to Gucci clothing\""
   ]
  },
  {
   "cell_type": "code",
   "execution_count": null,
   "metadata": {},
   "outputs": [],
   "source": [
    "response = rag_chain.invoke({\"input\": query})\n",
    "print(response[\"answer\"])"
   ]
  },
  {
   "cell_type": "code",
   "execution_count": null,
   "metadata": {},
   "outputs": [],
   "source": [
    "for document in response[\"context\"]:\n",
    "    print(document)\n",
    "    print()"
   ]
  },
  {
   "cell_type": "code",
   "execution_count": null,
   "metadata": {},
   "outputs": [],
   "source": [
    "df_image[df_image.prod_id == 41]"
   ]
  },
  {
   "cell_type": "code",
   "execution_count": null,
   "metadata": {},
   "outputs": [],
   "source": [
    "image_bytes = base64_to_image(df_image.iloc[113].base64)\n",
    "img = create_image_from_bytes(image_bytes=image_bytes)\n",
    "img.resize((400,500))"
   ]
  }
 ],
 "metadata": {
  "kernelspec": {
   "display_name": "Python 3",
   "language": "python",
   "name": "python3"
  },
  "language_info": {
   "codemirror_mode": {
    "name": "ipython",
    "version": 3
   },
   "file_extension": ".py",
   "mimetype": "text/x-python",
   "name": "python",
   "nbconvert_exporter": "python",
   "pygments_lexer": "ipython3",
   "version": "3.11.8"
  }
 },
 "nbformat": 4,
 "nbformat_minor": 2
}
